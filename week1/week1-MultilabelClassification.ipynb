{
 "cells": [
  {
   "cell_type": "markdown",
   "metadata": {},
   "source": [
    "# Predict tags on StackOverflow with linear models"
   ]
  },
  {
   "cell_type": "markdown",
   "metadata": {},
   "source": [
    "In this assignment you will learn how to predict tags for posts from [StackOverflow](https://stackoverflow.com). To solve this task you will use multilabel classification approach.\n",
    "\n",
    "### Libraries\n",
    "\n",
    "In this task you will need the following libraries:\n",
    "- [Numpy](http://www.numpy.org) — a package for scientific computing.\n",
    "- [Pandas](https://pandas.pydata.org) — a library providing high-performance, easy-to-use data structures and data analysis tools for the Python\n",
    "- [scikit-learn](http://scikit-learn.org/stable/index.html) — a tool for data mining and data analysis.\n",
    "- [NLTK](http://www.nltk.org) — a platform to work with natural language."
   ]
  },
  {
   "cell_type": "markdown",
   "metadata": {},
   "source": [
    "### Data\n",
    "\n",
    "The following cell will download all data required for this assignment into the folder `week1/data`."
   ]
  },
  {
   "cell_type": "code",
   "execution_count": 1,
   "metadata": {},
   "outputs": [
    {
     "name": "stdout",
     "output_type": "stream",
     "text": [
      "File data\\train.tsv is already downloaded.\n",
      "File data\\validation.tsv is already downloaded.\n",
      "File data\\test.tsv is already downloaded.\n",
      "File data\\text_prepare_tests.tsv is already downloaded.\n"
     ]
    }
   ],
   "source": [
    "import sys\n",
    "sys.path.append(\"..\")\n",
    "from common.download_utils import download_week1_resources\n",
    "\n",
    "download_week1_resources()"
   ]
  },
  {
   "cell_type": "markdown",
   "metadata": {},
   "source": [
    "### Grading\n",
    "We will create a grader instance below and use it to collect your answers. Note that these outputs will be stored locally inside grader and will be uploaded to platform only after running submitting function in the last part of this assignment. If you want to make partial submission, you can run that cell any time you want."
   ]
  },
  {
   "cell_type": "code",
   "execution_count": 2,
   "metadata": {},
   "outputs": [],
   "source": [
    "from grader import Grader"
   ]
  },
  {
   "cell_type": "code",
   "execution_count": 3,
   "metadata": {},
   "outputs": [],
   "source": [
    "grader = Grader()"
   ]
  },
  {
   "cell_type": "markdown",
   "metadata": {},
   "source": [
    "### Text preprocessing"
   ]
  },
  {
   "cell_type": "markdown",
   "metadata": {},
   "source": [
    "For this and most of the following assignments you will need to use a list of stop words. It can be downloaded from *nltk*:"
   ]
  },
  {
   "cell_type": "code",
   "execution_count": 4,
   "metadata": {},
   "outputs": [
    {
     "name": "stderr",
     "output_type": "stream",
     "text": [
      "[nltk_data] Downloading package stopwords to\n",
      "[nltk_data]     C:\\Users\\Xiaowei\\AppData\\Roaming\\nltk_data...\n",
      "[nltk_data]   Package stopwords is already up-to-date!\n"
     ]
    }
   ],
   "source": [
    "import nltk\n",
    "nltk.download('stopwords')\n",
    "from nltk.corpus import stopwords"
   ]
  },
  {
   "cell_type": "markdown",
   "metadata": {},
   "source": [
    "In this task you will deal with a dataset of post titles from StackOverflow. You are provided a split to 3 sets: *train*, *validation* and *test*. All corpora (except for *test*) contain titles of the posts and corresponding tags (100 tags are available). The *test* set is provided for Coursera's grading and doesn't contain answers. Upload the corpora using *pandas* and look at the data:"
   ]
  },
  {
   "cell_type": "code",
   "execution_count": 5,
   "metadata": {},
   "outputs": [],
   "source": [
    "from ast import literal_eval\n",
    "import pandas as pd\n",
    "import numpy as np"
   ]
  },
  {
   "cell_type": "code",
   "execution_count": 6,
   "metadata": {},
   "outputs": [],
   "source": [
    "def read_data(filename):\n",
    "    data = pd.read_csv(filename, sep='\\t')\n",
    "    data['tags'] = data['tags'].apply(literal_eval)\n",
    "    return data"
   ]
  },
  {
   "cell_type": "code",
   "execution_count": 7,
   "metadata": {},
   "outputs": [],
   "source": [
    "train = read_data('data/train.tsv')\n",
    "validation = read_data('data/validation.tsv')\n",
    "test = pd.read_csv('data/test.tsv', sep='\\t')"
   ]
  },
  {
   "cell_type": "code",
   "execution_count": 8,
   "metadata": {},
   "outputs": [
    {
     "data": {
      "text/html": [
       "<div>\n",
       "<style scoped>\n",
       "    .dataframe tbody tr th:only-of-type {\n",
       "        vertical-align: middle;\n",
       "    }\n",
       "\n",
       "    .dataframe tbody tr th {\n",
       "        vertical-align: top;\n",
       "    }\n",
       "\n",
       "    .dataframe thead th {\n",
       "        text-align: right;\n",
       "    }\n",
       "</style>\n",
       "<table border=\"1\" class=\"dataframe\">\n",
       "  <thead>\n",
       "    <tr style=\"text-align: right;\">\n",
       "      <th></th>\n",
       "      <th>title</th>\n",
       "      <th>tags</th>\n",
       "    </tr>\n",
       "  </thead>\n",
       "  <tbody>\n",
       "    <tr>\n",
       "      <th>0</th>\n",
       "      <td>How to draw a stacked dotplot in R?</td>\n",
       "      <td>[r]</td>\n",
       "    </tr>\n",
       "    <tr>\n",
       "      <th>1</th>\n",
       "      <td>mysql select all records where a datetime fiel...</td>\n",
       "      <td>[php, mysql]</td>\n",
       "    </tr>\n",
       "    <tr>\n",
       "      <th>2</th>\n",
       "      <td>How to terminate windows phone 8.1 app</td>\n",
       "      <td>[c#]</td>\n",
       "    </tr>\n",
       "    <tr>\n",
       "      <th>3</th>\n",
       "      <td>get current time in a specific country via jquery</td>\n",
       "      <td>[javascript, jquery]</td>\n",
       "    </tr>\n",
       "    <tr>\n",
       "      <th>4</th>\n",
       "      <td>Configuring Tomcat to Use SSL</td>\n",
       "      <td>[java]</td>\n",
       "    </tr>\n",
       "  </tbody>\n",
       "</table>\n",
       "</div>"
      ],
      "text/plain": [
       "                                               title                  tags\n",
       "0                How to draw a stacked dotplot in R?                   [r]\n",
       "1  mysql select all records where a datetime fiel...          [php, mysql]\n",
       "2             How to terminate windows phone 8.1 app                  [c#]\n",
       "3  get current time in a specific country via jquery  [javascript, jquery]\n",
       "4                      Configuring Tomcat to Use SSL                [java]"
      ]
     },
     "execution_count": 8,
     "metadata": {},
     "output_type": "execute_result"
    }
   ],
   "source": [
    "train.head()"
   ]
  },
  {
   "cell_type": "markdown",
   "metadata": {},
   "source": [
    "As you can see, *title* column contains titles of the posts and *tags* column contains the tags. It could be noticed that a number of tags for a post is not fixed and could be as many as necessary."
   ]
  },
  {
   "cell_type": "markdown",
   "metadata": {},
   "source": [
    "For a more comfortable usage, initialize *X_train*, *X_val*, *X_test*, *y_train*, *y_val*."
   ]
  },
  {
   "cell_type": "code",
   "execution_count": 9,
   "metadata": {},
   "outputs": [],
   "source": [
    "X_train, y_train = train['title'].values, train['tags'].values\n",
    "X_val, y_val = validation['title'].values, validation['tags'].values\n",
    "X_test = test['title'].values"
   ]
  },
  {
   "cell_type": "code",
   "execution_count": 10,
   "metadata": {},
   "outputs": [
    {
     "data": {
      "text/plain": [
       "pandas.core.series.Series"
      ]
     },
     "execution_count": 10,
     "metadata": {},
     "output_type": "execute_result"
    }
   ],
   "source": [
    "type(train['title'])"
   ]
  },
  {
   "cell_type": "markdown",
   "metadata": {},
   "source": [
    "One of the most known difficulties when working with natural data is that it's unstructured. For example, if you use it \"as is\" and extract tokens just by splitting the titles by whitespaces, you will see that there are many \"weird\" tokens like *3.5?*, *\"Flip*, etc. To prevent the problems, it's usually useful to prepare the data somehow. In this task you'll write a function, which will be also used in the other assignments. \n",
    "\n",
    "**Task 1 (TextPrepare).** Implement the function *text_prepare* following the instructions. After that, run the function *test_text_prepare* to test it on tiny cases and submit it to Coursera."
   ]
  },
  {
   "cell_type": "code",
   "execution_count": 11,
   "metadata": {},
   "outputs": [],
   "source": [
    "import re"
   ]
  },
  {
   "cell_type": "code",
   "execution_count": 12,
   "metadata": {},
   "outputs": [],
   "source": [
    "REPLACE_BY_SPACE_RE = re.compile('[/(){}\\[\\]\\|@,;]')\n",
    "BAD_SYMBOLS_RE = re.compile('[^0-9a-z #+_]')\n",
    "STOPWORDS = set(stopwords.words('english'))\n",
    "\n",
    "def text_prepare(text):\n",
    "    \"\"\"\n",
    "        text: a string\n",
    "        \n",
    "        return: modified initial string\n",
    "    \"\"\"\n",
    "    text = text.lower() # lowercase text\n",
    "    text = REPLACE_BY_SPACE_RE.sub(' ', text) # replace REPLACE_BY_SPACE_RE symbols by space in text\n",
    "    text = BAD_SYMBOLS_RE.sub('', text) # delete symbols which are in BAD_SYMBOLS_RE from text\n",
    "    \n",
    "    # delete stopwords from text\n",
    "    # convert multi space into single space, then split by space\n",
    "    text = re.sub(r\"\\s+\", \" \", text)\n",
    "    text = text.split(' ')\n",
    "    text = [i for i in text if i not in STOPWORDS]\n",
    "    text = ' '.join(text)\n",
    "    \n",
    "    return text"
   ]
  },
  {
   "cell_type": "code",
   "execution_count": 13,
   "metadata": {},
   "outputs": [],
   "source": [
    "def test_text_prepare():\n",
    "    examples = [\"SQL Server - any equivalent of Excel's CHOOSE function?\",\n",
    "                \"How to free c++ memory vector<int> * arr?\"]\n",
    "    answers = [\"sql server equivalent excels choose function\", \n",
    "               \"free c++ memory vectorint arr\"]\n",
    "    for ex, ans in zip(examples, answers):\n",
    "        if text_prepare(ex) != ans:\n",
    "            return \"Wrong answer for the case: '%s'\" % ex\n",
    "    return 'Basic tests are passed.'"
   ]
  },
  {
   "cell_type": "code",
   "execution_count": 14,
   "metadata": {},
   "outputs": [
    {
     "name": "stdout",
     "output_type": "stream",
     "text": [
      "Basic tests are passed.\n"
     ]
    }
   ],
   "source": [
    "print(test_text_prepare())"
   ]
  },
  {
   "cell_type": "markdown",
   "metadata": {},
   "source": [
    "Run your implementation for questions from file *text_prepare_tests.tsv* to earn the points."
   ]
  },
  {
   "cell_type": "code",
   "execution_count": 15,
   "metadata": {
    "scrolled": true
   },
   "outputs": [
    {
     "name": "stdout",
     "output_type": "stream",
     "text": [
      "Current answer for task TextPrepare is:\n",
      " sqlite php readonly\n",
      "creating multiple textboxes dynamically\n",
      "self one prefer javascript\n",
      "save php date...\n"
     ]
    }
   ],
   "source": [
    "prepared_questions = []\n",
    "for line in open('data/text_prepare_tests.tsv', encoding='utf-8'):\n",
    "    line = text_prepare(line.strip())\n",
    "    prepared_questions.append(line)\n",
    "text_prepare_results = '\\n'.join(prepared_questions)\n",
    "\n",
    "grader.submit_tag('TextPrepare', text_prepare_results)"
   ]
  },
  {
   "cell_type": "markdown",
   "metadata": {},
   "source": [
    "Now we can preprocess the titles using function *text_prepare* and  making sure that the headers don't have bad symbols:"
   ]
  },
  {
   "cell_type": "code",
   "execution_count": 16,
   "metadata": {},
   "outputs": [],
   "source": [
    "X_train = [text_prepare(x) for x in X_train]\n",
    "X_val = [text_prepare(x) for x in X_val]\n",
    "X_test = [text_prepare(x) for x in X_test]"
   ]
  },
  {
   "cell_type": "code",
   "execution_count": 17,
   "metadata": {},
   "outputs": [
    {
     "data": {
      "text/plain": [
       "['draw stacked dotplot r',\n",
       " 'mysql select records datetime field less specified value',\n",
       " 'terminate windows phone 81 app']"
      ]
     },
     "execution_count": 17,
     "metadata": {},
     "output_type": "execute_result"
    }
   ],
   "source": [
    "X_train[:3]"
   ]
  },
  {
   "cell_type": "markdown",
   "metadata": {},
   "source": [
    "For each tag and for each word calculate how many times they occur in the train corpus. \n",
    "\n",
    "**Task 2 (WordsTagsCount).** Find 3 most popular tags and 3 most popular words in the train data and submit the results to earn the points."
   ]
  },
  {
   "cell_type": "code",
   "execution_count": 18,
   "metadata": {},
   "outputs": [],
   "source": [
    "# Dictionary of all tags from train corpus with their counts.\n",
    "tags_counts = {}\n",
    "\n",
    "## Use Python Counter from collections module to deal with the list data type, it's unsorted.\n",
    "from collections import Counter\n",
    "\n",
    "tags = [tag for sub_tags in y_train for tag in sub_tags]\n",
    "tags_counts = dict(Counter(tags))\n",
    "\n",
    "# Dictionary of all words from train corpus with their counts.\n",
    "######################################\n",
    "######### YOUR CODE HERE #############\n",
    "######################################\n",
    "\n",
    "words_counts = {}\n",
    "map_result = map(lambda x: x.strip().split(' '), X_train)\n",
    "list_result = [item for sublist in list(map_result) for item in sublist]\n",
    "\n",
    "words_counts = dict(Counter(list_result))"
   ]
  },
  {
   "cell_type": "code",
   "execution_count": 19,
   "metadata": {
    "scrolled": true
   },
   "outputs": [
    {
     "data": {
      "text/plain": [
       "(100,\n",
       " {'r': 1727,\n",
       "  'php': 13907,\n",
       "  'mysql': 3092,\n",
       "  'c#': 19077,\n",
       "  'javascript': 19078,\n",
       "  'jquery': 7510,\n",
       "  'java': 18661,\n",
       "  'ruby-on-rails': 3344,\n",
       "  'ruby': 2326,\n",
       "  'ruby-on-rails-3': 692,\n",
       "  'json': 2026,\n",
       "  'spring': 1346,\n",
       "  'spring-mvc': 618,\n",
       "  'codeigniter': 786,\n",
       "  'class': 509,\n",
       "  'html': 4668,\n",
       "  'ios': 3256,\n",
       "  'c++': 6469,\n",
       "  'eclipse': 992,\n",
       "  'python': 8940,\n",
       "  'list': 693,\n",
       "  'objective-c': 4338,\n",
       "  'swift': 1465,\n",
       "  'xaml': 438,\n",
       "  'asp.net': 3939,\n",
       "  'wpf': 1289,\n",
       "  'multithreading': 1118,\n",
       "  'image': 672,\n",
       "  'performance': 512,\n",
       "  'twitter-bootstrap': 501,\n",
       "  'linq': 964,\n",
       "  'xml': 1347,\n",
       "  'numpy': 502,\n",
       "  'ajax': 1767,\n",
       "  'django': 1835,\n",
       "  'laravel': 525,\n",
       "  'android': 2818,\n",
       "  'rest': 456,\n",
       "  'asp.net-mvc': 1244,\n",
       "  'web-services': 633,\n",
       "  'string': 1573,\n",
       "  'excel': 443,\n",
       "  'winforms': 1468,\n",
       "  'arrays': 2277,\n",
       "  'c': 3119,\n",
       "  'sockets': 579,\n",
       "  'osx': 490,\n",
       "  'entity-framework': 649,\n",
       "  'mongodb': 350,\n",
       "  'opencv': 401,\n",
       "  'xcode': 900,\n",
       "  'uitableview': 460,\n",
       "  'algorithm': 419,\n",
       "  'python-2.7': 421,\n",
       "  'angularjs': 1353,\n",
       "  'dom': 400,\n",
       "  'swing': 759,\n",
       "  '.net': 3872,\n",
       "  'vb.net': 1918,\n",
       "  'google-maps': 408,\n",
       "  'hibernate': 807,\n",
       "  'wordpress': 478,\n",
       "  'iphone': 1909,\n",
       "  'sql': 1272,\n",
       "  'visual-studio': 574,\n",
       "  'linux': 793,\n",
       "  'facebook': 508,\n",
       "  'database': 740,\n",
       "  'file': 582,\n",
       "  'generics': 420,\n",
       "  'visual-studio-2010': 588,\n",
       "  'regex': 1442,\n",
       "  'html5': 842,\n",
       "  'jsp': 680,\n",
       "  'csv': 435,\n",
       "  'forms': 872,\n",
       "  'validation': 558,\n",
       "  'parsing': 403,\n",
       "  'function': 487,\n",
       "  'pandas': 479,\n",
       "  'sorting': 375,\n",
       "  'qt': 451,\n",
       "  'wcf': 389,\n",
       "  'css': 1769,\n",
       "  'date': 560,\n",
       "  'node.js': 771,\n",
       "  'sql-server': 585,\n",
       "  'unit-testing': 449,\n",
       "  'python-3.x': 379,\n",
       "  'loops': 389,\n",
       "  'windows': 838,\n",
       "  'pointers': 350,\n",
       "  'oop': 425,\n",
       "  'datetime': 557,\n",
       "  'servlets': 498,\n",
       "  'session': 415,\n",
       "  'cocoa-touch': 507,\n",
       "  'apache': 441,\n",
       "  'selenium': 431,\n",
       "  'maven': 432})"
      ]
     },
     "execution_count": 19,
     "metadata": {},
     "output_type": "execute_result"
    }
   ],
   "source": [
    "len(tags_counts), tags_counts"
   ]
  },
  {
   "cell_type": "code",
   "execution_count": 20,
   "metadata": {},
   "outputs": [
    {
     "name": "stdout",
     "output_type": "stream",
     "text": [
      "31497\n",
      "{'draw': 173, 'stacked': 20, 'dotplot': 1, 'r': 896, 'mysql': 1572, 'select': 980, 'records': 175, 'datetime': 363, 'field': 778, 'less': 79, 'specified': 162, 'value': 3175, 'terminate': 33, 'windows': 1339, 'phone': 223, '81': 59, 'app': 1116, 'get': 4301, 'current': 523, 'time': 1213, 'specific': 691, 'country': 37, 'via': 590, 'jquery': 3293, 'configuring': 32, 'tomcat': 255, 'use': 2422, 'ssl': 145, 'awesome': 7, 'nested': 446, 'set': 1640, 'plugin': 270, 'add': 1611, 'new': 931, 'children': 79, 'tree': 209, 'various': 27, 'levels': 25, 'create': 1757, 'map': 496, 'json': 1557, 'response': 396, 'ruby': 1164, 'rails': 1778, '3': 641, 'rspec': 144, 'test': 540, 'method': 2123, 'called': 316, 'springboot': 27, 'catalina': 3, 'lifecycle': 9, 'exception': 944, 'import': 354, 'data': 3298, 'excel': 540, 'database': 1631, 'using': 8278, 'php': 5614, 'obtaining': 15, 'object': 2646, 'javalangclasst': 1, 'parameterized': 17, 'type': 1699, 'without': 1369, 'constructing': 8, 'class': 2558, 'q_uestion': 1, 'ipad': 82, 'selecting': 125, 'text': 1929, 'inside': 947, 'input': 1120, 'tap': 20, 'jquerys': 22, 'function': 2896, 'eclipse': 624, 'c++': 2312, 'mingw': 39, 'lauch': 1, 'program': 584, 'terminated': 19, 'javascript': 4746, 'call': 1261, 'one': 1370, 'prototype': 71, 'another': 1115, 'intersection': 17, 'list': 2137, 'sets': 57, 'longer': 40, 'able': 103, 'hide': 363, 'keyboard': 123, 'viewwilldisappear': 2, 'ios7': 26, 'fetch': 142, 'key': 776, 'swift': 934, 'change': 1441}\n"
     ]
    }
   ],
   "source": [
    "print(len(words_counts))\n",
    "print({k:v for k, v in list(words_counts.items())[:100]})"
   ]
  },
  {
   "cell_type": "markdown",
   "metadata": {},
   "source": [
    "We are assuming that *tags_counts* and *words_counts* are dictionaries like `{'some_word_or_tag': frequency}`. After applying the sorting procedure, results will be look like this: `[('most_popular_word_or_tag', frequency), ('less_popular_word_or_tag', frequency), ...]`. The grader gets the results in the following format (two comma-separated strings with line break):\n",
    "\n",
    "    tag1,tag2,tag3\n",
    "    word1,word2,word3\n",
    "\n",
    "Pay attention that in this assignment you should not submit frequencies or some additional information."
   ]
  },
  {
   "cell_type": "code",
   "execution_count": 21,
   "metadata": {},
   "outputs": [
    {
     "name": "stdout",
     "output_type": "stream",
     "text": [
      "Current answer for task WordsTagsCount is:\n",
      " javascript,c#,java\n",
      "using,php,java...\n"
     ]
    }
   ],
   "source": [
    "most_common_tags = sorted(tags_counts.items(), key=lambda x: x[1], reverse=True)[:3]\n",
    "most_common_words = sorted(words_counts.items(), key=lambda x: x[1], reverse=True)[:3]\n",
    "\n",
    "grader.submit_tag('WordsTagsCount', '%s\\n%s' % (','.join(tag for tag, _ in most_common_tags), \n",
    "                                                ','.join(word for word, _ in most_common_words)))"
   ]
  },
  {
   "cell_type": "markdown",
   "metadata": {},
   "source": [
    "### Transforming text to a vector\n",
    "\n",
    "Machine Learning algorithms work with numeric data and we cannot use the provided text data \"as is\". There are many ways to transform text data to numeric vectors. In this task you will try to use two of them.\n",
    "\n",
    "#### Bag of words\n",
    "\n",
    "One of the well-known approaches is a *bag-of-words* representation. To create this transformation, follow the steps:\n",
    "1. Find *N* most popular words in train corpus and numerate them. Now we have a dictionary of the most popular words.\n",
    "2. For each title in the corpora create a zero vector with the dimension equals to *N*.\n",
    "3. For each text in the corpora iterate over words which are in the dictionary and increase by 1 the corresponding coordinate.\n",
    "\n",
    "Let's try to do it for a toy example. Imagine that we have *N* = 4 and the list of the most popular words is \n",
    "\n",
    "    ['hi', 'you', 'me', 'are']\n",
    "\n",
    "Then we need to numerate them, for example, like this: \n",
    "\n",
    "    {'hi': 0, 'you': 1, 'me': 2, 'are': 3}\n",
    "\n",
    "And we have the text, which we want to transform to the vector:\n",
    "\n",
    "    'hi how are you'\n",
    "\n",
    "For this text we create a corresponding zero vector \n",
    "\n",
    "    [0, 0, 0, 0]\n",
    "    \n",
    "And iterate over all words, and if the word is in the dictionary, we increase the value of the corresponding position in the vector:\n",
    "\n",
    "    'hi':  [1, 0, 0, 0]\n",
    "    'how': [1, 0, 0, 0] # word 'how' is not in our dictionary\n",
    "    'are': [1, 0, 0, 1]\n",
    "    'you': [1, 1, 0, 1]\n",
    "\n",
    "The resulting vector will be \n",
    "\n",
    "    [1, 1, 0, 1]\n",
    "   \n",
    "Implement the described encoding in the function *my_bag_of_words* with the size of the dictionary equals to 5000. To find the most common words use train data. You can test your code using the function *test_my_bag_of_words*."
   ]
  },
  {
   "cell_type": "code",
   "execution_count": 22,
   "metadata": {},
   "outputs": [],
   "source": [
    "DICT_SIZE = 10000\n",
    "\n",
    "####### YOUR CODE HERE #######\n",
    "top_words = sorted(words_counts.items(), key=lambda x: x[1], reverse=True)[:DICT_SIZE]\n",
    "top_words = list(map(lambda x: x[0], top_words))\n",
    "enum_words_dict = dict(enumerate(top_words))\n",
    "WORDS_TO_INDEX = {v:k for k, v in enum_words_dict.items()}\n",
    "\n",
    "####### YOUR CODE HERE #######\n",
    "INDEX_TO_WORDS = enum_words_dict\n",
    "ALL_WORDS = WORDS_TO_INDEX.keys()\n",
    "\n",
    "def my_bag_of_words(text, words_to_index, dict_size):\n",
    "    \"\"\"\n",
    "        text: a string\n",
    "        dict_size: size of the dictionary\n",
    "        \n",
    "        return a vector which is a bag-of-words representation of 'text'\n",
    "    \"\"\"\n",
    "    result_vector = np.zeros(dict_size)\n",
    "    ######################################\n",
    "    ######### YOUR CODE HERE #############\n",
    "    ######################################\n",
    "    words = text.split(' ')\n",
    "    for word in words:\n",
    "        id = words_to_index.get(word, -1)\n",
    "        if id != -1:\n",
    "            result_vector[id] = 1\n",
    "    return result_vector"
   ]
  },
  {
   "cell_type": "code",
   "execution_count": 23,
   "metadata": {},
   "outputs": [],
   "source": [
    "def test_my_bag_of_words():\n",
    "    words_to_index = {'hi': 0, 'you': 1, 'me': 2, 'are': 3}\n",
    "    examples = ['hi how are you']\n",
    "    answers = [[1, 1, 0, 1]]\n",
    "    for ex, ans in zip(examples, answers):\n",
    "        if (my_bag_of_words(ex, words_to_index, 4) != ans).any():\n",
    "            return \"Wrong answer for the case: '%s'\" % ex\n",
    "    return 'Basic tests are passed.'"
   ]
  },
  {
   "cell_type": "code",
   "execution_count": 24,
   "metadata": {},
   "outputs": [
    {
     "name": "stdout",
     "output_type": "stream",
     "text": [
      "Basic tests are passed.\n"
     ]
    }
   ],
   "source": [
    "print(test_my_bag_of_words())"
   ]
  },
  {
   "cell_type": "markdown",
   "metadata": {},
   "source": [
    "Now apply the implemented function to all samples (this might take up to a minute):"
   ]
  },
  {
   "cell_type": "code",
   "execution_count": 25,
   "metadata": {},
   "outputs": [],
   "source": [
    "from scipy import sparse as sp_sparse"
   ]
  },
  {
   "cell_type": "code",
   "execution_count": 26,
   "metadata": {},
   "outputs": [
    {
     "name": "stdout",
     "output_type": "stream",
     "text": [
      "X_train_mybag shape  (100000, 10000)\n",
      "X_val_mybag shape  (30000, 10000)\n",
      "X_test_mybag shape  (20000, 10000)\n"
     ]
    }
   ],
   "source": [
    "X_train_mybag = sp_sparse.vstack([sp_sparse.csr_matrix(my_bag_of_words(text, WORDS_TO_INDEX, DICT_SIZE)) for text in X_train])\n",
    "X_val_mybag = sp_sparse.vstack([sp_sparse.csr_matrix(my_bag_of_words(text, WORDS_TO_INDEX, DICT_SIZE)) for text in X_val])\n",
    "X_test_mybag = sp_sparse.vstack([sp_sparse.csr_matrix(my_bag_of_words(text, WORDS_TO_INDEX, DICT_SIZE)) for text in X_test])\n",
    "print('X_train_mybag shape ', X_train_mybag.shape)\n",
    "print('X_val_mybag shape ', X_val_mybag.shape)\n",
    "print('X_test_mybag shape ', X_test_mybag.shape)"
   ]
  },
  {
   "cell_type": "code",
   "execution_count": 27,
   "metadata": {},
   "outputs": [
    {
     "name": "stdout",
     "output_type": "stream",
     "text": [
      "draw stacked dotplot r\n",
      "[0. 0. 0. ... 0. 0. 0.]\n",
      "  (0, 98)\t1.0\n",
      "  (0, 605)\t1.0\n",
      "  (0, 2854)\t1.0\n"
     ]
    }
   ],
   "source": [
    "print(X_train[0])\n",
    "print(my_bag_of_words(X_train[0], WORDS_TO_INDEX, DICT_SIZE))\n",
    "print(X_train_mybag[0])"
   ]
  },
  {
   "cell_type": "markdown",
   "metadata": {},
   "source": [
    "As you might notice, we transform the data to sparse representation, to store the useful information efficiently. There are many [types](https://docs.scipy.org/doc/scipy/reference/sparse.html) of such representations, however sklearn algorithms can work only with [csr](https://docs.scipy.org/doc/scipy/reference/generated/scipy.sparse.csr_matrix.html#scipy.sparse.csr_matrix) matrix, so we will use this one."
   ]
  },
  {
   "cell_type": "markdown",
   "metadata": {},
   "source": [
    "**Task 3 (BagOfWords).** For the 11th row in *X_train_mybag* find how many non-zero elements it has. In this task the answer (variable *non_zero_elements_count*) should be a number, e.g. 20."
   ]
  },
  {
   "cell_type": "code",
   "execution_count": 28,
   "metadata": {},
   "outputs": [
    {
     "name": "stdout",
     "output_type": "stream",
     "text": [
      "Current answer for task BagOfWords is:\n",
      " 7...\n"
     ]
    }
   ],
   "source": [
    "row = X_train_mybag[10].toarray()[0]\n",
    "non_zero_elements_count = int(sum(row)) ####### YOUR CODE HERE #######\n",
    "\n",
    "grader.submit_tag('BagOfWords', non_zero_elements_count)"
   ]
  },
  {
   "cell_type": "markdown",
   "metadata": {},
   "source": [
    "#### TF-IDF\n",
    "\n",
    "The second approach extends the bag-of-words framework by taking into account total frequencies of words in the corpora. It helps to penalize too frequent words and provide better features space. \n",
    "\n",
    "Implement function *tfidf_features* using class [TfidfVectorizer](http://scikit-learn.org/stable/modules/generated/sklearn.feature_extraction.text.TfidfVectorizer.html) from *scikit-learn*. Use *train* corpus to train a vectorizer. Don't forget to take a look into the arguments that you can pass to it. We suggest that you filter out too rare words (occur less than in 5 titles) and too frequent words (occur more than in 90% of the titles). Also, use bigrams along with unigrams in your vocabulary. "
   ]
  },
  {
   "cell_type": "code",
   "execution_count": 29,
   "metadata": {},
   "outputs": [],
   "source": [
    "from sklearn.feature_extraction.text import TfidfVectorizer"
   ]
  },
  {
   "cell_type": "code",
   "execution_count": 30,
   "metadata": {},
   "outputs": [],
   "source": [
    "def tfidf_features(X_train, X_val, X_test):\n",
    "    \"\"\"\n",
    "        X_train, X_val, X_test — samples        \n",
    "        return TF-IDF vectorized representation of each sample and vocabulary\n",
    "    \"\"\"\n",
    "    # Create TF-IDF vectorizer with a proper parameters choice\n",
    "    # Fit the vectorizer on the train set\n",
    "    # Transform the train, test, and val sets and return the result\n",
    "    \n",
    "    \n",
    "    ####### YOUR CODE HERE #######\n",
    "    tfidf_vectorizer = TfidfVectorizer(min_df = 5, max_df = 0.9, ngram_range=(1,2), token_pattern = '(\\S+)')\n",
    "    \n",
    "    ######################################\n",
    "    ######### YOUR CODE HERE #############\n",
    "    ######################################\n",
    "    tfidf_vectorizer = tfidf_vectorizer.fit(X_train)\n",
    "    X_train = tfidf_vectorizer.transform(X_train)\n",
    "    X_val = tfidf_vectorizer.transform(X_val)\n",
    "    X_test = tfidf_vectorizer.transform(X_test)\n",
    "    \n",
    "    return X_train, X_val, X_test, tfidf_vectorizer.vocabulary_"
   ]
  },
  {
   "cell_type": "markdown",
   "metadata": {},
   "source": [
    "Once you have done text preprocessing, always have a look at the results. Be very careful at this step, because the performance of future models will drastically depend on it. \n",
    "\n",
    "In this case, check whether you have c++ or c# in your vocabulary, as they are obviously important tokens in our tags prediction task:"
   ]
  },
  {
   "cell_type": "code",
   "execution_count": 31,
   "metadata": {},
   "outputs": [],
   "source": [
    "X_train_tfidf, X_val_tfidf, X_test_tfidf, tfidf_vocab = tfidf_features(X_train, X_val, X_test)\n",
    "tfidf_reversed_vocab = {i:word for word,i in tfidf_vocab.items()}"
   ]
  },
  {
   "cell_type": "code",
   "execution_count": 32,
   "metadata": {},
   "outputs": [
    {
     "data": {
      "text/plain": [
       "(100000, 18300)"
      ]
     },
     "execution_count": 32,
     "metadata": {},
     "output_type": "execute_result"
    }
   ],
   "source": [
    "X_train_tfidf.shape"
   ]
  },
  {
   "cell_type": "code",
   "execution_count": 33,
   "metadata": {},
   "outputs": [
    {
     "name": "stdout",
     "output_type": "stream",
     "text": [
      "Text:\n",
      " draw stacked dotplot r\n",
      "After BOW, dictionary size 10000, compressed spark row matrix:\n",
      "   (0, 98)\t1.0\n",
      "  (0, 605)\t1.0\n",
      "  (0, 2854)\t1.0\n",
      "After tfidf, minimum document frequency 5:\n",
      "   (0, 14941)\t0.7126565202061851\n",
      "  (0, 12748)\t0.4309937630129157\n",
      "  (0, 4792)\t0.5535025387941576\n"
     ]
    }
   ],
   "source": [
    "print('Text:\\n', X_train[0])\n",
    "print('After BOW, dictionary size 10000, compressed spark row matrix:\\n', X_train_mybag [0])\n",
    "print('After tfidf, minimum document frequency 5:\\n', X_train_tfidf[0])"
   ]
  },
  {
   "cell_type": "code",
   "execution_count": 34,
   "metadata": {},
   "outputs": [
    {
     "name": "stdout",
     "output_type": "stream",
     "text": [
      "True\n",
      "True\n"
     ]
    }
   ],
   "source": [
    "######### YOUR CODE HERE #############\n",
    "print('c++' in tfidf_reversed_vocab.values())\n",
    "print('c#' in tfidf_reversed_vocab.values())"
   ]
  },
  {
   "cell_type": "markdown",
   "metadata": {},
   "source": [
    "If you can't find it, we need to understand how did it happen that we lost them? It happened during the built-in tokenization of TfidfVectorizer. Luckily, we can influence on this process. Get back to the function above and use '(\\S+)' regexp as a *token_pattern* in the constructor of the vectorizer.  "
   ]
  },
  {
   "cell_type": "markdown",
   "metadata": {},
   "source": [
    "Now, use this transormation for the data and check again."
   ]
  },
  {
   "cell_type": "code",
   "execution_count": 35,
   "metadata": {},
   "outputs": [
    {
     "name": "stdout",
     "output_type": "stream",
     "text": [
      "True\n",
      "True\n"
     ]
    }
   ],
   "source": [
    "######### YOUR CODE HERE #############\n",
    "print('c++' in tfidf_reversed_vocab.values())\n",
    "print('c#' in tfidf_reversed_vocab.values())"
   ]
  },
  {
   "cell_type": "code",
   "execution_count": 36,
   "metadata": {},
   "outputs": [
    {
     "name": "stdout",
     "output_type": "stream",
     "text": [
      "mysql select records datetime field less specified value\n",
      "  (0, 13)\t1.0\n",
      "  (0, 36)\t1.0\n",
      "  (0, 84)\t1.0\n",
      "  (0, 116)\t1.0\n",
      "  (0, 292)\t1.0\n",
      "  (0, 599)\t1.0\n",
      "  (0, 645)\t1.0\n",
      "  (0, 1142)\t1.0\n",
      "  (0, 17129)\t0.18110148646398527\n",
      "  (0, 14801)\t0.2999430853319639\n",
      "  (0, 14054)\t0.40893120409824163\n",
      "  (0, 14019)\t0.22859508855051244\n",
      "  (0, 13008)\t0.2975359437533552\n",
      "  (0, 10426)\t0.36213766165290934\n",
      "  (0, 10394)\t0.2088886377002491\n",
      "  (0, 9077)\t0.32871667093872164\n",
      "  (0, 5815)\t0.23823684465290781\n",
      "  (0, 4093)\t0.3963922496423734\n",
      "  (0, 4089)\t0.2692803496632626\n"
     ]
    }
   ],
   "source": [
    "print(X_train[1])\n",
    "print(X_train_mybag[1])\n",
    "print(X_train_tfidf[1])"
   ]
  },
  {
   "cell_type": "markdown",
   "metadata": {},
   "source": [
    "### MultiLabel classifier\n",
    "\n",
    "As we have noticed before, in this task each example can have multiple tags. To deal with such kind of prediction, we need to transform labels in a binary form and the prediction will be a mask of 0s and 1s. For this purpose it is convenient to use [MultiLabelBinarizer](http://scikit-learn.org/stable/modules/generated/sklearn.preprocessing.MultiLabelBinarizer.html) from *sklearn*."
   ]
  },
  {
   "cell_type": "code",
   "execution_count": 37,
   "metadata": {},
   "outputs": [],
   "source": [
    "from sklearn.preprocessing import MultiLabelBinarizer"
   ]
  },
  {
   "cell_type": "code",
   "execution_count": 38,
   "metadata": {},
   "outputs": [
    {
     "name": "stdout",
     "output_type": "stream",
     "text": [
      "['r']\n"
     ]
    }
   ],
   "source": [
    "print(y_train[0])"
   ]
  },
  {
   "cell_type": "code",
   "execution_count": 39,
   "metadata": {},
   "outputs": [],
   "source": [
    "mlb = MultiLabelBinarizer(classes=sorted(tags_counts.keys()))\n",
    "y_train = mlb.fit_transform(y_train)\n",
    "y_val = mlb.fit_transform(y_val)"
   ]
  },
  {
   "cell_type": "code",
   "execution_count": 40,
   "metadata": {},
   "outputs": [
    {
     "name": "stdout",
     "output_type": "stream",
     "text": [
      "MultiLabelBinarizer(classes=['.net', 'ajax', 'algorithm', 'android',\n",
      "                             'angularjs', 'apache', 'arrays', 'asp.net',\n",
      "                             'asp.net-mvc', 'c', 'c#', 'c++', 'class',\n",
      "                             'cocoa-touch', 'codeigniter', 'css', 'csv',\n",
      "                             'database', 'date', 'datetime', 'django', 'dom',\n",
      "                             'eclipse', 'entity-framework', 'excel', 'facebook',\n",
      "                             'file', 'forms', 'function', 'generics', ...])\n",
      "[0 0 0 0 0 0 0 0 0 0 0 0 0 0 0 0 0 0 0 0 0 0 0 0 0 0 0 0 0 0 0 0 0 0 0 0 0\n",
      " 0 0 0 0 0 0 0 0 0 0 0 0 0 0 0 0 0 0 0 0 0 0 0 0 0 0 0 0 0 1 0 0 0 0 0 0 0\n",
      " 0 0 0 0 0 0 0 0 0 0 0 0 0 0 0 0 0 0 0 0 0 0 0 0 0 0]\n"
     ]
    }
   ],
   "source": [
    "print(mlb)\n",
    "print(y_train[0])"
   ]
  },
  {
   "cell_type": "markdown",
   "metadata": {},
   "source": [
    "Implement the function *train_classifier* for training a classifier. In this task we suggest to use One-vs-Rest approach, which is implemented in [OneVsRestClassifier](http://scikit-learn.org/stable/modules/generated/sklearn.multiclass.OneVsRestClassifier.html) class. In this approach *k* classifiers (= number of tags) are trained. As a basic classifier, use [LogisticRegression](http://scikit-learn.org/stable/modules/generated/sklearn.linear_model.LogisticRegression.html). It is one of the simplest methods, but often it performs good enough in text classification tasks. It might take some time, because a number of classifiers to train is large."
   ]
  },
  {
   "cell_type": "code",
   "execution_count": 41,
   "metadata": {},
   "outputs": [],
   "source": [
    "from sklearn.multiclass import OneVsRestClassifier\n",
    "from sklearn.linear_model import LogisticRegression, RidgeClassifier"
   ]
  },
  {
   "cell_type": "code",
   "execution_count": 42,
   "metadata": {},
   "outputs": [],
   "source": [
    "def train_classifier(X_train, y_train):\n",
    "    \"\"\"\n",
    "      X_train, y_train — training data\n",
    "      \n",
    "      return: trained classifier\n",
    "    \"\"\"\n",
    "    \n",
    "    # Create and fit LogisticRegression wraped into OneVsRestClassifier.\n",
    "\n",
    "    ######################################\n",
    "    ######### YOUR CODE HERE #############\n",
    "    ######################################       \n",
    "    return OneVsRestClassifier(LogisticRegression(random_state=0), n_jobs=-1).fit(X_train, y_train)"
   ]
  },
  {
   "cell_type": "markdown",
   "metadata": {},
   "source": [
    "Train the classifiers for different data transformations: *bag-of-words* and *tf-idf*."
   ]
  },
  {
   "cell_type": "code",
   "execution_count": 43,
   "metadata": {},
   "outputs": [
    {
     "name": "stdout",
     "output_type": "stream",
     "text": [
      "Wall time: 23.9 s\n"
     ]
    }
   ],
   "source": [
    "%%time\n",
    "classifier_mybag = train_classifier(X_train_mybag, y_train)\n",
    "classifier_tfidf = train_classifier(X_train_tfidf, y_train)"
   ]
  },
  {
   "cell_type": "code",
   "execution_count": 44,
   "metadata": {},
   "outputs": [],
   "source": [
    "y_train_predicted_labels_tfidf = classifier_tfidf.predict(X_train_tfidf)\n",
    "y_train_predicted_scores_tfidf = classifier_tfidf.decision_function(X_train_tfidf)\n",
    "y_train_pred_inversed = mlb.inverse_transform(y_train_predicted_labels_tfidf)"
   ]
  },
  {
   "cell_type": "code",
   "execution_count": 45,
   "metadata": {},
   "outputs": [
    {
     "name": "stdout",
     "output_type": "stream",
     "text": [
      "100000 samples, 75132 have predicted labels.\n"
     ]
    }
   ],
   "source": [
    "print('%d samples, %d have predicted labels.' %\n",
    "      (len(y_train_pred_inversed), len(list(filter(lambda x: x != (), y_train_pred_inversed)))))"
   ]
  },
  {
   "cell_type": "markdown",
   "metadata": {},
   "source": [
    "Now you can create predictions for the data. You will need two types of predictions: labels and scores."
   ]
  },
  {
   "cell_type": "code",
   "execution_count": 46,
   "metadata": {},
   "outputs": [],
   "source": [
    "y_val_predicted_labels_mybag = classifier_mybag.predict(X_val_mybag)\n",
    "y_val_predicted_scores_mybag = classifier_mybag.decision_function(X_val_mybag)\n",
    "\n",
    "y_val_predicted_labels_tfidf = classifier_tfidf.predict(X_val_tfidf)\n",
    "y_val_predicted_scores_tfidf = classifier_tfidf.decision_function(X_val_tfidf)"
   ]
  },
  {
   "cell_type": "markdown",
   "metadata": {},
   "source": [
    "Now take a look at how classifier, which uses TF-IDF, works for a few examples:"
   ]
  },
  {
   "cell_type": "code",
   "execution_count": 47,
   "metadata": {
    "scrolled": true
   },
   "outputs": [
    {
     "name": "stdout",
     "output_type": "stream",
     "text": [
      "Title:\todbc_exec always fail\n",
      "True labels:\tphp,sql\n",
      "Predicted labels:\t\n",
      "\n",
      "\n",
      "Title:\taccess base classes variable within child class\n",
      "True labels:\tjavascript\n",
      "Predicted labels:\t\n",
      "\n",
      "\n",
      "Title:\tcontenttype application json required rails\n",
      "True labels:\truby,ruby-on-rails\n",
      "Predicted labels:\tjson,ruby-on-rails\n",
      "\n",
      "\n"
     ]
    }
   ],
   "source": [
    "y_val_pred_inversed = mlb.inverse_transform(y_val_predicted_labels_tfidf)\n",
    "y_val_inversed = mlb.inverse_transform(y_val)\n",
    "for i in range(3):\n",
    "    print('Title:\\t{}\\nTrue labels:\\t{}\\nPredicted labels:\\t{}\\n\\n'.format(\n",
    "        X_val[i],\n",
    "        ','.join(y_val_inversed[i]),\n",
    "        ','.join(y_val_pred_inversed[i])\n",
    "    ))"
   ]
  },
  {
   "cell_type": "code",
   "execution_count": 48,
   "metadata": {},
   "outputs": [
    {
     "name": "stdout",
     "output_type": "stream",
     "text": [
      "30000 samples, 22193 have predicted labels.\n"
     ]
    }
   ],
   "source": [
    "print('%d samples, %d have predicted labels.' %\n",
    "      (len(y_val_predicted_labels_tfidf), len(list(filter(lambda x: x != (), y_val_pred_inversed)))))"
   ]
  },
  {
   "cell_type": "markdown",
   "metadata": {},
   "source": [
    "Now, we would need to compare the results of different predictions, e.g. to see whether TF-IDF transformation helps or to try different regularization techniques in logistic regression. For all these experiments, we need to setup evaluation procedure. "
   ]
  },
  {
   "cell_type": "markdown",
   "metadata": {},
   "source": [
    "### Evaluation\n",
    "\n",
    "To evaluate the results we will use several classification metrics:\n",
    " - [Accuracy](http://scikit-learn.org/stable/modules/generated/sklearn.metrics.accuracy_score.html)\n",
    " - [F1-score](http://scikit-learn.org/stable/modules/generated/sklearn.metrics.f1_score.html)\n",
    " - [Area under ROC-curve](http://scikit-learn.org/stable/modules/generated/sklearn.metrics.roc_auc_score.html)\n",
    " - [Area under precision-recall curve](http://scikit-learn.org/stable/modules/generated/sklearn.metrics.average_precision_score.html#sklearn.metrics.average_precision_score) \n",
    " \n",
    "Make sure you are familiar with all of them. How would you expect the things work for the multi-label scenario? Read about micro/macro/weighted averaging following the sklearn links provided above."
   ]
  },
  {
   "cell_type": "code",
   "execution_count": 49,
   "metadata": {},
   "outputs": [],
   "source": [
    "from sklearn.metrics import accuracy_score\n",
    "from sklearn.metrics import f1_score\n",
    "from sklearn.metrics import roc_auc_score \n",
    "from sklearn.metrics import average_precision_score\n",
    "from sklearn.metrics import recall_score"
   ]
  },
  {
   "cell_type": "markdown",
   "metadata": {},
   "source": [
    "Implement the function *print_evaluation_scores* which calculates and prints to stdout:\n",
    " - *accuracy*\n",
    " - *F1-score macro/micro/weighted*\n",
    " - *Precision macro/micro/weighted*"
   ]
  },
  {
   "cell_type": "code",
   "execution_count": 50,
   "metadata": {},
   "outputs": [
    {
     "name": "stdout",
     "output_type": "stream",
     "text": [
      "Wall time: 119 ms\n"
     ]
    },
    {
     "data": {
      "text/plain": [
       "0.3624"
      ]
     },
     "execution_count": 50,
     "metadata": {},
     "output_type": "execute_result"
    }
   ],
   "source": [
    "%time accuracy_score(y_val, y_val_predicted_labels_mybag)"
   ]
  },
  {
   "cell_type": "code",
   "execution_count": 51,
   "metadata": {},
   "outputs": [],
   "source": [
    "def print_evaluation_scores(y_val, predicted):\n",
    "    \n",
    "    ######################################\n",
    "    ######### YOUR CODE HERE #############\n",
    "    ######################################\n",
    "    acc = accuracy_score(y_val, predicted)\n",
    "    print('Accuracy score: %f' % acc)\n",
    "    f1_macro = f1_score(y_val, predicted, average = 'macro')\n",
    "    f1_micro = f1_score(y_val, predicted, average = 'micro')\n",
    "    f1_weighted = f1_score(y_val, predicted, average = 'weighted')\n",
    "    print('F1-score macro/micro/weighted: %f, %f, %f' % (f1_macro, f1_micro, f1_weighted))\n",
    "    \n",
    "    pre_macro = average_precision_score(y_val, predicted, average = 'macro')\n",
    "    pre_micro = average_precision_score(y_val, predicted, average = 'micro')\n",
    "    pre_weighted = average_precision_score(y_val, predicted, average = 'weighted')\n",
    "    print('Precision score macro/micro/weighted: %f, %f, %f' % (pre_macro, pre_micro, pre_weighted))"
   ]
  },
  {
   "cell_type": "code",
   "execution_count": 52,
   "metadata": {},
   "outputs": [],
   "source": [
    "# # Set below attribute to ignore error divide by 0\n",
    "# np.seterr(divide='ignore', invalid='ignore')"
   ]
  },
  {
   "cell_type": "code",
   "execution_count": 53,
   "metadata": {},
   "outputs": [
    {
     "name": "stdout",
     "output_type": "stream",
     "text": [
      "Bag-of-words\n",
      "Accuracy score: 0.362400\n",
      "F1-score macro/micro/weighted: 0.508632, 0.675459, 0.653083\n",
      "Precision score macro/micro/weighted: 0.349302, 0.486433, 0.515752\n",
      "\n",
      "\n",
      "Tfidf\n",
      "Accuracy score: 0.334000\n",
      "F1-score macro/micro/weighted: 0.445482, 0.641778, 0.614293\n",
      "Precision score macro/micro/weighted: 0.301823, 0.456963, 0.485059\n"
     ]
    }
   ],
   "source": [
    "print('Bag-of-words')\n",
    "print_evaluation_scores(y_val, y_val_predicted_labels_mybag)\n",
    "print('\\n')\n",
    "\n",
    "print('Tfidf')\n",
    "print_evaluation_scores(y_val, y_val_predicted_labels_tfidf)"
   ]
  },
  {
   "cell_type": "markdown",
   "metadata": {},
   "source": [
    "You might also want to plot some generalization of the [ROC curve](http://scikit-learn.org/stable/modules/model_evaluation.html#receiver-operating-characteristic-roc) for the case of multi-label classification. Provided function *roc_auc* can make it for you. The input parameters of this function are:\n",
    " - true labels\n",
    " - decision functions scores\n",
    " - number of classes"
   ]
  },
  {
   "cell_type": "code",
   "execution_count": 54,
   "metadata": {},
   "outputs": [],
   "source": [
    "from metrics import roc_auc\n",
    "%matplotlib inline"
   ]
  },
  {
   "cell_type": "code",
   "execution_count": 55,
   "metadata": {},
   "outputs": [
    {
     "data": {
      "image/png": "[encoded data removed]",
      "text/plain": [
       "<Figure size 432x288 with 1 Axes>"
      ]
     },
     "metadata": {
      "needs_background": "light"
     },
     "output_type": "display_data"
    }
   ],
   "source": [
    "n_classes = len(tags_counts)\n",
    "roc_auc(y_val, y_val_predicted_scores_mybag, n_classes)"
   ]
  },
  {
   "cell_type": "code",
   "execution_count": 56,
   "metadata": {},
   "outputs": [
    {
     "data": {
      "image/png": "[encoded data removed]",
      "text/plain": [
       "<Figure size 432x288 with 1 Axes>"
      ]
     },
     "metadata": {
      "needs_background": "light"
     },
     "output_type": "display_data"
    }
   ],
   "source": [
    "n_classes = len(tags_counts)\n",
    "roc_auc(y_val, y_val_predicted_scores_tfidf, n_classes)"
   ]
  },
  {
   "cell_type": "markdown",
   "metadata": {},
   "source": [
    "**Task 4 (MultilabelClassification).** Once we have the evaluation set up, we suggest that you experiment a bit with training your classifiers. We will use *F1-score weighted* as an evaluation metric. Our recommendation:\n",
    "- compare the quality of the bag-of-words and TF-IDF approaches and chose one of them.\n",
    "- for the chosen one, try *L1* and *L2*-regularization techniques in Logistic Regression with different coefficients (e.g. C equal to 0.1, 1, 10, 100).\n",
    "\n",
    "You also could try other improvements of the preprocessing / model, if you want. "
   ]
  },
  {
   "cell_type": "code",
   "execution_count": 57,
   "metadata": {},
   "outputs": [
    {
     "name": "stderr",
     "output_type": "stream",
     "text": [
      "C:\\Users\\Xiaowei\\Anaconda3\\envs\\tfspark\\lib\\site-packages\\sklearn\\base.py:213: FutureWarning: From version 0.24, get_params will raise an AttributeError if a parameter cannot be retrieved as an instance attribute. Previously it would return None.\n",
      "  FutureWarning)\n"
     ]
    },
    {
     "data": {
      "text/plain": [
       "dict_keys(['C', 'class_weight', 'dual', 'fit_intercept', 'intercept_scaling', 'l1_ratio', 'max_iter', 'multi_class', 'n_jobs', 'penalty', 'random_state', 'solver', 'tol', 'verbose', 'warm_start'])"
      ]
     },
     "execution_count": 57,
     "metadata": {},
     "output_type": "execute_result"
    }
   ],
   "source": [
    "LogisticRegression.get_params(LogisticRegression).keys()"
   ]
  },
  {
   "cell_type": "code",
   "execution_count": 58,
   "metadata": {
    "scrolled": true
   },
   "outputs": [
    {
     "name": "stderr",
     "output_type": "stream",
     "text": [
      "C:\\Users\\Xiaowei\\Anaconda3\\envs\\tfspark\\lib\\site-packages\\sklearn\\model_selection\\_validation.py:552: FitFailedWarning: Estimator fit failed. The score on this train-test partition for these parameters will be set to nan. Details: \n",
      "joblib.externals.loky.process_executor._RemoteTraceback: \n",
      "\"\"\"\n",
      "Traceback (most recent call last):\n",
      "  File \"C:\\Users\\Xiaowei\\Anaconda3\\envs\\tfspark\\lib\\site-packages\\joblib\\externals\\loky\\process_executor.py\", line 431, in _process_worker\n",
      "    r = call_item()\n",
      "  File \"C:\\Users\\Xiaowei\\Anaconda3\\envs\\tfspark\\lib\\site-packages\\joblib\\externals\\loky\\process_executor.py\", line 285, in __call__\n",
      "    return self.fn(*self.args, **self.kwargs)\n",
      "  File \"C:\\Users\\Xiaowei\\Anaconda3\\envs\\tfspark\\lib\\site-packages\\joblib\\_parallel_backends.py\", line 593, in __call__\n",
      "    return self.func(*args, **kwargs)\n",
      "  File \"C:\\Users\\Xiaowei\\Anaconda3\\envs\\tfspark\\lib\\site-packages\\joblib\\parallel.py\", line 253, in __call__\n",
      "    for func, args, kwargs in self.items]\n",
      "  File \"C:\\Users\\Xiaowei\\Anaconda3\\envs\\tfspark\\lib\\site-packages\\joblib\\parallel.py\", line 253, in <listcomp>\n",
      "    for func, args, kwargs in self.items]\n",
      "  File \"C:\\Users\\Xiaowei\\Anaconda3\\envs\\tfspark\\lib\\site-packages\\sklearn\\multiclass.py\", line 81, in _fit_binary\n",
      "    estimator.fit(X, y)\n",
      "  File \"C:\\Users\\Xiaowei\\Anaconda3\\envs\\tfspark\\lib\\site-packages\\sklearn\\linear_model\\_logistic.py\", line 1304, in fit\n",
      "    solver = _check_solver(self.solver, self.penalty, self.dual)\n",
      "  File \"C:\\Users\\Xiaowei\\Anaconda3\\envs\\tfspark\\lib\\site-packages\\sklearn\\linear_model\\_logistic.py\", line 443, in _check_solver\n",
      "    \"got %s penalty.\" % (solver, penalty))\n",
      "ValueError: Solver lbfgs supports only 'l2' or 'none' penalties, got l1 penalty.\n",
      "\"\"\"\n",
      "\n",
      "The above exception was the direct cause of the following exception:\n",
      "\n",
      "Traceback (most recent call last):\n",
      "  File \"C:\\Users\\Xiaowei\\Anaconda3\\envs\\tfspark\\lib\\site-packages\\sklearn\\model_selection\\_validation.py\", line 531, in _fit_and_score\n",
      "    estimator.fit(X_train, y_train, **fit_params)\n",
      "  File \"C:\\Users\\Xiaowei\\Anaconda3\\envs\\tfspark\\lib\\site-packages\\sklearn\\multiclass.py\", line 245, in fit\n",
      "    for i, column in enumerate(columns))\n",
      "  File \"C:\\Users\\Xiaowei\\Anaconda3\\envs\\tfspark\\lib\\site-packages\\joblib\\parallel.py\", line 1042, in __call__\n",
      "    self.retrieve()\n",
      "  File \"C:\\Users\\Xiaowei\\Anaconda3\\envs\\tfspark\\lib\\site-packages\\joblib\\parallel.py\", line 921, in retrieve\n",
      "    self._output.extend(job.get(timeout=self.timeout))\n",
      "  File \"C:\\Users\\Xiaowei\\Anaconda3\\envs\\tfspark\\lib\\site-packages\\joblib\\_parallel_backends.py\", line 540, in wrap_future_result\n",
      "    return future.result(timeout=timeout)\n",
      "  File \"C:\\Users\\Xiaowei\\Anaconda3\\envs\\tfspark\\lib\\concurrent\\futures\\_base.py\", line 435, in result\n",
      "    return self.__get_result()\n",
      "  File \"C:\\Users\\Xiaowei\\Anaconda3\\envs\\tfspark\\lib\\concurrent\\futures\\_base.py\", line 384, in __get_result\n",
      "    raise self._exception\n",
      "ValueError: Solver lbfgs supports only 'l2' or 'none' penalties, got l1 penalty.\n",
      "\n",
      "  FitFailedWarning)\n",
      "C:\\Users\\Xiaowei\\Anaconda3\\envs\\tfspark\\lib\\site-packages\\sklearn\\model_selection\\_validation.py:552: FitFailedWarning: Estimator fit failed. The score on this train-test partition for these parameters will be set to nan. Details: \n",
      "joblib.externals.loky.process_executor._RemoteTraceback: \n",
      "\"\"\"\n",
      "Traceback (most recent call last):\n",
      "  File \"C:\\Users\\Xiaowei\\Anaconda3\\envs\\tfspark\\lib\\site-packages\\joblib\\externals\\loky\\process_executor.py\", line 431, in _process_worker\n",
      "    r = call_item()\n",
      "  File \"C:\\Users\\Xiaowei\\Anaconda3\\envs\\tfspark\\lib\\site-packages\\joblib\\externals\\loky\\process_executor.py\", line 285, in __call__\n",
      "    return self.fn(*self.args, **self.kwargs)\n",
      "  File \"C:\\Users\\Xiaowei\\Anaconda3\\envs\\tfspark\\lib\\site-packages\\joblib\\_parallel_backends.py\", line 593, in __call__\n",
      "    return self.func(*args, **kwargs)\n",
      "  File \"C:\\Users\\Xiaowei\\Anaconda3\\envs\\tfspark\\lib\\site-packages\\joblib\\parallel.py\", line 253, in __call__\n",
      "    for func, args, kwargs in self.items]\n",
      "  File \"C:\\Users\\Xiaowei\\Anaconda3\\envs\\tfspark\\lib\\site-packages\\joblib\\parallel.py\", line 253, in <listcomp>\n",
      "    for func, args, kwargs in self.items]\n",
      "  File \"C:\\Users\\Xiaowei\\Anaconda3\\envs\\tfspark\\lib\\site-packages\\sklearn\\multiclass.py\", line 81, in _fit_binary\n",
      "    estimator.fit(X, y)\n",
      "  File \"C:\\Users\\Xiaowei\\Anaconda3\\envs\\tfspark\\lib\\site-packages\\sklearn\\linear_model\\_logistic.py\", line 1304, in fit\n",
      "    solver = _check_solver(self.solver, self.penalty, self.dual)\n",
      "  File \"C:\\Users\\Xiaowei\\Anaconda3\\envs\\tfspark\\lib\\site-packages\\sklearn\\linear_model\\_logistic.py\", line 443, in _check_solver\n",
      "    \"got %s penalty.\" % (solver, penalty))\n",
      "ValueError: Solver lbfgs supports only 'l2' or 'none' penalties, got l1 penalty.\n",
      "\"\"\"\n",
      "\n",
      "The above exception was the direct cause of the following exception:\n",
      "\n",
      "Traceback (most recent call last):\n",
      "  File \"C:\\Users\\Xiaowei\\Anaconda3\\envs\\tfspark\\lib\\site-packages\\sklearn\\model_selection\\_validation.py\", line 531, in _fit_and_score\n",
      "    estimator.fit(X_train, y_train, **fit_params)\n",
      "  File \"C:\\Users\\Xiaowei\\Anaconda3\\envs\\tfspark\\lib\\site-packages\\sklearn\\multiclass.py\", line 245, in fit\n",
      "    for i, column in enumerate(columns))\n",
      "  File \"C:\\Users\\Xiaowei\\Anaconda3\\envs\\tfspark\\lib\\site-packages\\joblib\\parallel.py\", line 1042, in __call__\n",
      "    self.retrieve()\n",
      "  File \"C:\\Users\\Xiaowei\\Anaconda3\\envs\\tfspark\\lib\\site-packages\\joblib\\parallel.py\", line 921, in retrieve\n",
      "    self._output.extend(job.get(timeout=self.timeout))\n",
      "  File \"C:\\Users\\Xiaowei\\Anaconda3\\envs\\tfspark\\lib\\site-packages\\joblib\\_parallel_backends.py\", line 540, in wrap_future_result\n",
      "    return future.result(timeout=timeout)\n",
      "  File \"C:\\Users\\Xiaowei\\Anaconda3\\envs\\tfspark\\lib\\concurrent\\futures\\_base.py\", line 435, in result\n",
      "    return self.__get_result()\n",
      "  File \"C:\\Users\\Xiaowei\\Anaconda3\\envs\\tfspark\\lib\\concurrent\\futures\\_base.py\", line 384, in __get_result\n",
      "    raise self._exception\n",
      "ValueError: Solver lbfgs supports only 'l2' or 'none' penalties, got l1 penalty.\n",
      "\n",
      "  FitFailedWarning)\n",
      "C:\\Users\\Xiaowei\\Anaconda3\\envs\\tfspark\\lib\\site-packages\\sklearn\\model_selection\\_validation.py:552: FitFailedWarning: Estimator fit failed. The score on this train-test partition for these parameters will be set to nan. Details: \n",
      "joblib.externals.loky.process_executor._RemoteTraceback: \n",
      "\"\"\"\n",
      "Traceback (most recent call last):\n",
      "  File \"C:\\Users\\Xiaowei\\Anaconda3\\envs\\tfspark\\lib\\site-packages\\joblib\\externals\\loky\\process_executor.py\", line 431, in _process_worker\n",
      "    r = call_item()\n",
      "  File \"C:\\Users\\Xiaowei\\Anaconda3\\envs\\tfspark\\lib\\site-packages\\joblib\\externals\\loky\\process_executor.py\", line 285, in __call__\n",
      "    return self.fn(*self.args, **self.kwargs)\n",
      "  File \"C:\\Users\\Xiaowei\\Anaconda3\\envs\\tfspark\\lib\\site-packages\\joblib\\_parallel_backends.py\", line 593, in __call__\n",
      "    return self.func(*args, **kwargs)\n",
      "  File \"C:\\Users\\Xiaowei\\Anaconda3\\envs\\tfspark\\lib\\site-packages\\joblib\\parallel.py\", line 253, in __call__\n",
      "    for func, args, kwargs in self.items]\n",
      "  File \"C:\\Users\\Xiaowei\\Anaconda3\\envs\\tfspark\\lib\\site-packages\\joblib\\parallel.py\", line 253, in <listcomp>\n",
      "    for func, args, kwargs in self.items]\n",
      "  File \"C:\\Users\\Xiaowei\\Anaconda3\\envs\\tfspark\\lib\\site-packages\\sklearn\\multiclass.py\", line 81, in _fit_binary\n",
      "    estimator.fit(X, y)\n",
      "  File \"C:\\Users\\Xiaowei\\Anaconda3\\envs\\tfspark\\lib\\site-packages\\sklearn\\linear_model\\_logistic.py\", line 1304, in fit\n",
      "    solver = _check_solver(self.solver, self.penalty, self.dual)\n",
      "  File \"C:\\Users\\Xiaowei\\Anaconda3\\envs\\tfspark\\lib\\site-packages\\sklearn\\linear_model\\_logistic.py\", line 443, in _check_solver\n",
      "    \"got %s penalty.\" % (solver, penalty))\n",
      "ValueError: Solver lbfgs supports only 'l2' or 'none' penalties, got l1 penalty.\n",
      "\"\"\"\n",
      "\n",
      "The above exception was the direct cause of the following exception:\n",
      "\n",
      "Traceback (most recent call last):\n",
      "  File \"C:\\Users\\Xiaowei\\Anaconda3\\envs\\tfspark\\lib\\site-packages\\sklearn\\model_selection\\_validation.py\", line 531, in _fit_and_score\n",
      "    estimator.fit(X_train, y_train, **fit_params)\n",
      "  File \"C:\\Users\\Xiaowei\\Anaconda3\\envs\\tfspark\\lib\\site-packages\\sklearn\\multiclass.py\", line 245, in fit\n",
      "    for i, column in enumerate(columns))\n",
      "  File \"C:\\Users\\Xiaowei\\Anaconda3\\envs\\tfspark\\lib\\site-packages\\joblib\\parallel.py\", line 1042, in __call__\n",
      "    self.retrieve()\n",
      "  File \"C:\\Users\\Xiaowei\\Anaconda3\\envs\\tfspark\\lib\\site-packages\\joblib\\parallel.py\", line 921, in retrieve\n",
      "    self._output.extend(job.get(timeout=self.timeout))\n",
      "  File \"C:\\Users\\Xiaowei\\Anaconda3\\envs\\tfspark\\lib\\site-packages\\joblib\\_parallel_backends.py\", line 540, in wrap_future_result\n",
      "    return future.result(timeout=timeout)\n",
      "  File \"C:\\Users\\Xiaowei\\Anaconda3\\envs\\tfspark\\lib\\concurrent\\futures\\_base.py\", line 435, in result\n",
      "    return self.__get_result()\n",
      "  File \"C:\\Users\\Xiaowei\\Anaconda3\\envs\\tfspark\\lib\\concurrent\\futures\\_base.py\", line 384, in __get_result\n",
      "    raise self._exception\n",
      "ValueError: Solver lbfgs supports only 'l2' or 'none' penalties, got l1 penalty.\n",
      "\n",
      "  FitFailedWarning)\n"
     ]
    },
    {
     "name": "stderr",
     "output_type": "stream",
     "text": [
      "C:\\Users\\Xiaowei\\Anaconda3\\envs\\tfspark\\lib\\site-packages\\sklearn\\model_selection\\_validation.py:552: FitFailedWarning: Estimator fit failed. The score on this train-test partition for these parameters will be set to nan. Details: \n",
      "joblib.externals.loky.process_executor._RemoteTraceback: \n",
      "\"\"\"\n",
      "Traceback (most recent call last):\n",
      "  File \"C:\\Users\\Xiaowei\\Anaconda3\\envs\\tfspark\\lib\\site-packages\\joblib\\externals\\loky\\process_executor.py\", line 431, in _process_worker\n",
      "    r = call_item()\n",
      "  File \"C:\\Users\\Xiaowei\\Anaconda3\\envs\\tfspark\\lib\\site-packages\\joblib\\externals\\loky\\process_executor.py\", line 285, in __call__\n",
      "    return self.fn(*self.args, **self.kwargs)\n",
      "  File \"C:\\Users\\Xiaowei\\Anaconda3\\envs\\tfspark\\lib\\site-packages\\joblib\\_parallel_backends.py\", line 593, in __call__\n",
      "    return self.func(*args, **kwargs)\n",
      "  File \"C:\\Users\\Xiaowei\\Anaconda3\\envs\\tfspark\\lib\\site-packages\\joblib\\parallel.py\", line 253, in __call__\n",
      "    for func, args, kwargs in self.items]\n",
      "  File \"C:\\Users\\Xiaowei\\Anaconda3\\envs\\tfspark\\lib\\site-packages\\joblib\\parallel.py\", line 253, in <listcomp>\n",
      "    for func, args, kwargs in self.items]\n",
      "  File \"C:\\Users\\Xiaowei\\Anaconda3\\envs\\tfspark\\lib\\site-packages\\sklearn\\multiclass.py\", line 81, in _fit_binary\n",
      "    estimator.fit(X, y)\n",
      "  File \"C:\\Users\\Xiaowei\\Anaconda3\\envs\\tfspark\\lib\\site-packages\\sklearn\\linear_model\\_logistic.py\", line 1304, in fit\n",
      "    solver = _check_solver(self.solver, self.penalty, self.dual)\n",
      "  File \"C:\\Users\\Xiaowei\\Anaconda3\\envs\\tfspark\\lib\\site-packages\\sklearn\\linear_model\\_logistic.py\", line 443, in _check_solver\n",
      "    \"got %s penalty.\" % (solver, penalty))\n",
      "ValueError: Solver lbfgs supports only 'l2' or 'none' penalties, got l1 penalty.\n",
      "\"\"\"\n",
      "\n",
      "The above exception was the direct cause of the following exception:\n",
      "\n",
      "Traceback (most recent call last):\n",
      "  File \"C:\\Users\\Xiaowei\\Anaconda3\\envs\\tfspark\\lib\\site-packages\\sklearn\\model_selection\\_validation.py\", line 531, in _fit_and_score\n",
      "    estimator.fit(X_train, y_train, **fit_params)\n",
      "  File \"C:\\Users\\Xiaowei\\Anaconda3\\envs\\tfspark\\lib\\site-packages\\sklearn\\multiclass.py\", line 245, in fit\n",
      "    for i, column in enumerate(columns))\n",
      "  File \"C:\\Users\\Xiaowei\\Anaconda3\\envs\\tfspark\\lib\\site-packages\\joblib\\parallel.py\", line 1042, in __call__\n",
      "    self.retrieve()\n",
      "  File \"C:\\Users\\Xiaowei\\Anaconda3\\envs\\tfspark\\lib\\site-packages\\joblib\\parallel.py\", line 921, in retrieve\n",
      "    self._output.extend(job.get(timeout=self.timeout))\n",
      "  File \"C:\\Users\\Xiaowei\\Anaconda3\\envs\\tfspark\\lib\\site-packages\\joblib\\_parallel_backends.py\", line 540, in wrap_future_result\n",
      "    return future.result(timeout=timeout)\n",
      "  File \"C:\\Users\\Xiaowei\\Anaconda3\\envs\\tfspark\\lib\\concurrent\\futures\\_base.py\", line 435, in result\n",
      "    return self.__get_result()\n",
      "  File \"C:\\Users\\Xiaowei\\Anaconda3\\envs\\tfspark\\lib\\concurrent\\futures\\_base.py\", line 384, in __get_result\n",
      "    raise self._exception\n",
      "ValueError: Solver lbfgs supports only 'l2' or 'none' penalties, got l1 penalty.\n",
      "\n",
      "  FitFailedWarning)\n",
      "C:\\Users\\Xiaowei\\Anaconda3\\envs\\tfspark\\lib\\site-packages\\sklearn\\model_selection\\_validation.py:552: FitFailedWarning: Estimator fit failed. The score on this train-test partition for these parameters will be set to nan. Details: \n",
      "joblib.externals.loky.process_executor._RemoteTraceback: \n",
      "\"\"\"\n",
      "Traceback (most recent call last):\n",
      "  File \"C:\\Users\\Xiaowei\\Anaconda3\\envs\\tfspark\\lib\\site-packages\\joblib\\externals\\loky\\process_executor.py\", line 431, in _process_worker\n",
      "    r = call_item()\n",
      "  File \"C:\\Users\\Xiaowei\\Anaconda3\\envs\\tfspark\\lib\\site-packages\\joblib\\externals\\loky\\process_executor.py\", line 285, in __call__\n",
      "    return self.fn(*self.args, **self.kwargs)\n",
      "  File \"C:\\Users\\Xiaowei\\Anaconda3\\envs\\tfspark\\lib\\site-packages\\joblib\\_parallel_backends.py\", line 593, in __call__\n",
      "    return self.func(*args, **kwargs)\n",
      "  File \"C:\\Users\\Xiaowei\\Anaconda3\\envs\\tfspark\\lib\\site-packages\\joblib\\parallel.py\", line 253, in __call__\n",
      "    for func, args, kwargs in self.items]\n",
      "  File \"C:\\Users\\Xiaowei\\Anaconda3\\envs\\tfspark\\lib\\site-packages\\joblib\\parallel.py\", line 253, in <listcomp>\n",
      "    for func, args, kwargs in self.items]\n",
      "  File \"C:\\Users\\Xiaowei\\Anaconda3\\envs\\tfspark\\lib\\site-packages\\sklearn\\multiclass.py\", line 81, in _fit_binary\n",
      "    estimator.fit(X, y)\n",
      "  File \"C:\\Users\\Xiaowei\\Anaconda3\\envs\\tfspark\\lib\\site-packages\\sklearn\\linear_model\\_logistic.py\", line 1304, in fit\n",
      "    solver = _check_solver(self.solver, self.penalty, self.dual)\n",
      "  File \"C:\\Users\\Xiaowei\\Anaconda3\\envs\\tfspark\\lib\\site-packages\\sklearn\\linear_model\\_logistic.py\", line 443, in _check_solver\n",
      "    \"got %s penalty.\" % (solver, penalty))\n",
      "ValueError: Solver lbfgs supports only 'l2' or 'none' penalties, got l1 penalty.\n",
      "\"\"\"\n",
      "\n",
      "The above exception was the direct cause of the following exception:\n",
      "\n",
      "Traceback (most recent call last):\n",
      "  File \"C:\\Users\\Xiaowei\\Anaconda3\\envs\\tfspark\\lib\\site-packages\\sklearn\\model_selection\\_validation.py\", line 531, in _fit_and_score\n",
      "    estimator.fit(X_train, y_train, **fit_params)\n",
      "  File \"C:\\Users\\Xiaowei\\Anaconda3\\envs\\tfspark\\lib\\site-packages\\sklearn\\multiclass.py\", line 245, in fit\n",
      "    for i, column in enumerate(columns))\n",
      "  File \"C:\\Users\\Xiaowei\\Anaconda3\\envs\\tfspark\\lib\\site-packages\\joblib\\parallel.py\", line 1042, in __call__\n",
      "    self.retrieve()\n",
      "  File \"C:\\Users\\Xiaowei\\Anaconda3\\envs\\tfspark\\lib\\site-packages\\joblib\\parallel.py\", line 921, in retrieve\n",
      "    self._output.extend(job.get(timeout=self.timeout))\n",
      "  File \"C:\\Users\\Xiaowei\\Anaconda3\\envs\\tfspark\\lib\\site-packages\\joblib\\_parallel_backends.py\", line 540, in wrap_future_result\n",
      "    return future.result(timeout=timeout)\n",
      "  File \"C:\\Users\\Xiaowei\\Anaconda3\\envs\\tfspark\\lib\\concurrent\\futures\\_base.py\", line 435, in result\n",
      "    return self.__get_result()\n",
      "  File \"C:\\Users\\Xiaowei\\Anaconda3\\envs\\tfspark\\lib\\concurrent\\futures\\_base.py\", line 384, in __get_result\n",
      "    raise self._exception\n",
      "ValueError: Solver lbfgs supports only 'l2' or 'none' penalties, got l1 penalty.\n",
      "\n",
      "  FitFailedWarning)\n",
      "C:\\Users\\Xiaowei\\Anaconda3\\envs\\tfspark\\lib\\site-packages\\sklearn\\model_selection\\_validation.py:552: FitFailedWarning: Estimator fit failed. The score on this train-test partition for these parameters will be set to nan. Details: \n",
      "joblib.externals.loky.process_executor._RemoteTraceback: \n",
      "\"\"\"\n",
      "Traceback (most recent call last):\n",
      "  File \"C:\\Users\\Xiaowei\\Anaconda3\\envs\\tfspark\\lib\\site-packages\\joblib\\externals\\loky\\process_executor.py\", line 431, in _process_worker\n",
      "    r = call_item()\n",
      "  File \"C:\\Users\\Xiaowei\\Anaconda3\\envs\\tfspark\\lib\\site-packages\\joblib\\externals\\loky\\process_executor.py\", line 285, in __call__\n",
      "    return self.fn(*self.args, **self.kwargs)\n",
      "  File \"C:\\Users\\Xiaowei\\Anaconda3\\envs\\tfspark\\lib\\site-packages\\joblib\\_parallel_backends.py\", line 593, in __call__\n",
      "    return self.func(*args, **kwargs)\n",
      "  File \"C:\\Users\\Xiaowei\\Anaconda3\\envs\\tfspark\\lib\\site-packages\\joblib\\parallel.py\", line 253, in __call__\n",
      "    for func, args, kwargs in self.items]\n",
      "  File \"C:\\Users\\Xiaowei\\Anaconda3\\envs\\tfspark\\lib\\site-packages\\joblib\\parallel.py\", line 253, in <listcomp>\n",
      "    for func, args, kwargs in self.items]\n",
      "  File \"C:\\Users\\Xiaowei\\Anaconda3\\envs\\tfspark\\lib\\site-packages\\sklearn\\multiclass.py\", line 81, in _fit_binary\n",
      "    estimator.fit(X, y)\n",
      "  File \"C:\\Users\\Xiaowei\\Anaconda3\\envs\\tfspark\\lib\\site-packages\\sklearn\\linear_model\\_logistic.py\", line 1304, in fit\n",
      "    solver = _check_solver(self.solver, self.penalty, self.dual)\n",
      "  File \"C:\\Users\\Xiaowei\\Anaconda3\\envs\\tfspark\\lib\\site-packages\\sklearn\\linear_model\\_logistic.py\", line 443, in _check_solver\n",
      "    \"got %s penalty.\" % (solver, penalty))\n",
      "ValueError: Solver lbfgs supports only 'l2' or 'none' penalties, got l1 penalty.\n",
      "\"\"\"\n",
      "\n",
      "The above exception was the direct cause of the following exception:\n",
      "\n",
      "Traceback (most recent call last):\n",
      "  File \"C:\\Users\\Xiaowei\\Anaconda3\\envs\\tfspark\\lib\\site-packages\\sklearn\\model_selection\\_validation.py\", line 531, in _fit_and_score\n",
      "    estimator.fit(X_train, y_train, **fit_params)\n",
      "  File \"C:\\Users\\Xiaowei\\Anaconda3\\envs\\tfspark\\lib\\site-packages\\sklearn\\multiclass.py\", line 245, in fit\n",
      "    for i, column in enumerate(columns))\n",
      "  File \"C:\\Users\\Xiaowei\\Anaconda3\\envs\\tfspark\\lib\\site-packages\\joblib\\parallel.py\", line 1042, in __call__\n",
      "    self.retrieve()\n",
      "  File \"C:\\Users\\Xiaowei\\Anaconda3\\envs\\tfspark\\lib\\site-packages\\joblib\\parallel.py\", line 921, in retrieve\n",
      "    self._output.extend(job.get(timeout=self.timeout))\n",
      "  File \"C:\\Users\\Xiaowei\\Anaconda3\\envs\\tfspark\\lib\\site-packages\\joblib\\_parallel_backends.py\", line 540, in wrap_future_result\n",
      "    return future.result(timeout=timeout)\n",
      "  File \"C:\\Users\\Xiaowei\\Anaconda3\\envs\\tfspark\\lib\\concurrent\\futures\\_base.py\", line 435, in result\n",
      "    return self.__get_result()\n",
      "  File \"C:\\Users\\Xiaowei\\Anaconda3\\envs\\tfspark\\lib\\concurrent\\futures\\_base.py\", line 384, in __get_result\n",
      "    raise self._exception\n",
      "ValueError: Solver lbfgs supports only 'l2' or 'none' penalties, got l1 penalty.\n",
      "\n",
      "  FitFailedWarning)\n"
     ]
    },
    {
     "name": "stderr",
     "output_type": "stream",
     "text": [
      "C:\\Users\\Xiaowei\\Anaconda3\\envs\\tfspark\\lib\\site-packages\\sklearn\\model_selection\\_validation.py:552: FitFailedWarning: Estimator fit failed. The score on this train-test partition for these parameters will be set to nan. Details: \n",
      "joblib.externals.loky.process_executor._RemoteTraceback: \n",
      "\"\"\"\n",
      "Traceback (most recent call last):\n",
      "  File \"C:\\Users\\Xiaowei\\Anaconda3\\envs\\tfspark\\lib\\site-packages\\joblib\\externals\\loky\\process_executor.py\", line 431, in _process_worker\n",
      "    r = call_item()\n",
      "  File \"C:\\Users\\Xiaowei\\Anaconda3\\envs\\tfspark\\lib\\site-packages\\joblib\\externals\\loky\\process_executor.py\", line 285, in __call__\n",
      "    return self.fn(*self.args, **self.kwargs)\n",
      "  File \"C:\\Users\\Xiaowei\\Anaconda3\\envs\\tfspark\\lib\\site-packages\\joblib\\_parallel_backends.py\", line 593, in __call__\n",
      "    return self.func(*args, **kwargs)\n",
      "  File \"C:\\Users\\Xiaowei\\Anaconda3\\envs\\tfspark\\lib\\site-packages\\joblib\\parallel.py\", line 253, in __call__\n",
      "    for func, args, kwargs in self.items]\n",
      "  File \"C:\\Users\\Xiaowei\\Anaconda3\\envs\\tfspark\\lib\\site-packages\\joblib\\parallel.py\", line 253, in <listcomp>\n",
      "    for func, args, kwargs in self.items]\n",
      "  File \"C:\\Users\\Xiaowei\\Anaconda3\\envs\\tfspark\\lib\\site-packages\\sklearn\\multiclass.py\", line 81, in _fit_binary\n",
      "    estimator.fit(X, y)\n",
      "  File \"C:\\Users\\Xiaowei\\Anaconda3\\envs\\tfspark\\lib\\site-packages\\sklearn\\linear_model\\_logistic.py\", line 1304, in fit\n",
      "    solver = _check_solver(self.solver, self.penalty, self.dual)\n",
      "  File \"C:\\Users\\Xiaowei\\Anaconda3\\envs\\tfspark\\lib\\site-packages\\sklearn\\linear_model\\_logistic.py\", line 443, in _check_solver\n",
      "    \"got %s penalty.\" % (solver, penalty))\n",
      "ValueError: Solver lbfgs supports only 'l2' or 'none' penalties, got l1 penalty.\n",
      "\"\"\"\n",
      "\n",
      "The above exception was the direct cause of the following exception:\n",
      "\n",
      "Traceback (most recent call last):\n",
      "  File \"C:\\Users\\Xiaowei\\Anaconda3\\envs\\tfspark\\lib\\site-packages\\sklearn\\model_selection\\_validation.py\", line 531, in _fit_and_score\n",
      "    estimator.fit(X_train, y_train, **fit_params)\n",
      "  File \"C:\\Users\\Xiaowei\\Anaconda3\\envs\\tfspark\\lib\\site-packages\\sklearn\\multiclass.py\", line 245, in fit\n",
      "    for i, column in enumerate(columns))\n",
      "  File \"C:\\Users\\Xiaowei\\Anaconda3\\envs\\tfspark\\lib\\site-packages\\joblib\\parallel.py\", line 1042, in __call__\n",
      "    self.retrieve()\n",
      "  File \"C:\\Users\\Xiaowei\\Anaconda3\\envs\\tfspark\\lib\\site-packages\\joblib\\parallel.py\", line 921, in retrieve\n",
      "    self._output.extend(job.get(timeout=self.timeout))\n",
      "  File \"C:\\Users\\Xiaowei\\Anaconda3\\envs\\tfspark\\lib\\site-packages\\joblib\\_parallel_backends.py\", line 540, in wrap_future_result\n",
      "    return future.result(timeout=timeout)\n",
      "  File \"C:\\Users\\Xiaowei\\Anaconda3\\envs\\tfspark\\lib\\concurrent\\futures\\_base.py\", line 435, in result\n",
      "    return self.__get_result()\n",
      "  File \"C:\\Users\\Xiaowei\\Anaconda3\\envs\\tfspark\\lib\\concurrent\\futures\\_base.py\", line 384, in __get_result\n",
      "    raise self._exception\n",
      "ValueError: Solver lbfgs supports only 'l2' or 'none' penalties, got l1 penalty.\n",
      "\n",
      "  FitFailedWarning)\n",
      "C:\\Users\\Xiaowei\\Anaconda3\\envs\\tfspark\\lib\\site-packages\\sklearn\\model_selection\\_validation.py:552: FitFailedWarning: Estimator fit failed. The score on this train-test partition for these parameters will be set to nan. Details: \n",
      "joblib.externals.loky.process_executor._RemoteTraceback: \n",
      "\"\"\"\n",
      "Traceback (most recent call last):\n",
      "  File \"C:\\Users\\Xiaowei\\Anaconda3\\envs\\tfspark\\lib\\site-packages\\joblib\\externals\\loky\\process_executor.py\", line 431, in _process_worker\n",
      "    r = call_item()\n",
      "  File \"C:\\Users\\Xiaowei\\Anaconda3\\envs\\tfspark\\lib\\site-packages\\joblib\\externals\\loky\\process_executor.py\", line 285, in __call__\n",
      "    return self.fn(*self.args, **self.kwargs)\n",
      "  File \"C:\\Users\\Xiaowei\\Anaconda3\\envs\\tfspark\\lib\\site-packages\\joblib\\_parallel_backends.py\", line 593, in __call__\n",
      "    return self.func(*args, **kwargs)\n",
      "  File \"C:\\Users\\Xiaowei\\Anaconda3\\envs\\tfspark\\lib\\site-packages\\joblib\\parallel.py\", line 253, in __call__\n",
      "    for func, args, kwargs in self.items]\n",
      "  File \"C:\\Users\\Xiaowei\\Anaconda3\\envs\\tfspark\\lib\\site-packages\\joblib\\parallel.py\", line 253, in <listcomp>\n",
      "    for func, args, kwargs in self.items]\n",
      "  File \"C:\\Users\\Xiaowei\\Anaconda3\\envs\\tfspark\\lib\\site-packages\\sklearn\\multiclass.py\", line 81, in _fit_binary\n",
      "    estimator.fit(X, y)\n",
      "  File \"C:\\Users\\Xiaowei\\Anaconda3\\envs\\tfspark\\lib\\site-packages\\sklearn\\linear_model\\_logistic.py\", line 1304, in fit\n",
      "    solver = _check_solver(self.solver, self.penalty, self.dual)\n",
      "  File \"C:\\Users\\Xiaowei\\Anaconda3\\envs\\tfspark\\lib\\site-packages\\sklearn\\linear_model\\_logistic.py\", line 443, in _check_solver\n",
      "    \"got %s penalty.\" % (solver, penalty))\n",
      "ValueError: Solver lbfgs supports only 'l2' or 'none' penalties, got l1 penalty.\n",
      "\"\"\"\n",
      "\n",
      "The above exception was the direct cause of the following exception:\n",
      "\n",
      "Traceback (most recent call last):\n",
      "  File \"C:\\Users\\Xiaowei\\Anaconda3\\envs\\tfspark\\lib\\site-packages\\sklearn\\model_selection\\_validation.py\", line 531, in _fit_and_score\n",
      "    estimator.fit(X_train, y_train, **fit_params)\n",
      "  File \"C:\\Users\\Xiaowei\\Anaconda3\\envs\\tfspark\\lib\\site-packages\\sklearn\\multiclass.py\", line 245, in fit\n",
      "    for i, column in enumerate(columns))\n",
      "  File \"C:\\Users\\Xiaowei\\Anaconda3\\envs\\tfspark\\lib\\site-packages\\joblib\\parallel.py\", line 1042, in __call__\n",
      "    self.retrieve()\n",
      "  File \"C:\\Users\\Xiaowei\\Anaconda3\\envs\\tfspark\\lib\\site-packages\\joblib\\parallel.py\", line 921, in retrieve\n",
      "    self._output.extend(job.get(timeout=self.timeout))\n",
      "  File \"C:\\Users\\Xiaowei\\Anaconda3\\envs\\tfspark\\lib\\site-packages\\joblib\\_parallel_backends.py\", line 540, in wrap_future_result\n",
      "    return future.result(timeout=timeout)\n",
      "  File \"C:\\Users\\Xiaowei\\Anaconda3\\envs\\tfspark\\lib\\concurrent\\futures\\_base.py\", line 435, in result\n",
      "    return self.__get_result()\n",
      "  File \"C:\\Users\\Xiaowei\\Anaconda3\\envs\\tfspark\\lib\\concurrent\\futures\\_base.py\", line 384, in __get_result\n",
      "    raise self._exception\n",
      "ValueError: Solver lbfgs supports only 'l2' or 'none' penalties, got l1 penalty.\n",
      "\n",
      "  FitFailedWarning)\n",
      "C:\\Users\\Xiaowei\\Anaconda3\\envs\\tfspark\\lib\\site-packages\\sklearn\\model_selection\\_validation.py:552: FitFailedWarning: Estimator fit failed. The score on this train-test partition for these parameters will be set to nan. Details: \n",
      "joblib.externals.loky.process_executor._RemoteTraceback: \n",
      "\"\"\"\n",
      "Traceback (most recent call last):\n",
      "  File \"C:\\Users\\Xiaowei\\Anaconda3\\envs\\tfspark\\lib\\site-packages\\joblib\\externals\\loky\\process_executor.py\", line 431, in _process_worker\n",
      "    r = call_item()\n",
      "  File \"C:\\Users\\Xiaowei\\Anaconda3\\envs\\tfspark\\lib\\site-packages\\joblib\\externals\\loky\\process_executor.py\", line 285, in __call__\n",
      "    return self.fn(*self.args, **self.kwargs)\n",
      "  File \"C:\\Users\\Xiaowei\\Anaconda3\\envs\\tfspark\\lib\\site-packages\\joblib\\_parallel_backends.py\", line 593, in __call__\n",
      "    return self.func(*args, **kwargs)\n",
      "  File \"C:\\Users\\Xiaowei\\Anaconda3\\envs\\tfspark\\lib\\site-packages\\joblib\\parallel.py\", line 253, in __call__\n",
      "    for func, args, kwargs in self.items]\n",
      "  File \"C:\\Users\\Xiaowei\\Anaconda3\\envs\\tfspark\\lib\\site-packages\\joblib\\parallel.py\", line 253, in <listcomp>\n",
      "    for func, args, kwargs in self.items]\n",
      "  File \"C:\\Users\\Xiaowei\\Anaconda3\\envs\\tfspark\\lib\\site-packages\\sklearn\\multiclass.py\", line 81, in _fit_binary\n",
      "    estimator.fit(X, y)\n",
      "  File \"C:\\Users\\Xiaowei\\Anaconda3\\envs\\tfspark\\lib\\site-packages\\sklearn\\linear_model\\_logistic.py\", line 1304, in fit\n",
      "    solver = _check_solver(self.solver, self.penalty, self.dual)\n",
      "  File \"C:\\Users\\Xiaowei\\Anaconda3\\envs\\tfspark\\lib\\site-packages\\sklearn\\linear_model\\_logistic.py\", line 443, in _check_solver\n",
      "    \"got %s penalty.\" % (solver, penalty))\n",
      "ValueError: Solver lbfgs supports only 'l2' or 'none' penalties, got l1 penalty.\n",
      "\"\"\"\n",
      "\n",
      "The above exception was the direct cause of the following exception:\n",
      "\n",
      "Traceback (most recent call last):\n",
      "  File \"C:\\Users\\Xiaowei\\Anaconda3\\envs\\tfspark\\lib\\site-packages\\sklearn\\model_selection\\_validation.py\", line 531, in _fit_and_score\n",
      "    estimator.fit(X_train, y_train, **fit_params)\n",
      "  File \"C:\\Users\\Xiaowei\\Anaconda3\\envs\\tfspark\\lib\\site-packages\\sklearn\\multiclass.py\", line 245, in fit\n",
      "    for i, column in enumerate(columns))\n",
      "  File \"C:\\Users\\Xiaowei\\Anaconda3\\envs\\tfspark\\lib\\site-packages\\joblib\\parallel.py\", line 1042, in __call__\n",
      "    self.retrieve()\n",
      "  File \"C:\\Users\\Xiaowei\\Anaconda3\\envs\\tfspark\\lib\\site-packages\\joblib\\parallel.py\", line 921, in retrieve\n",
      "    self._output.extend(job.get(timeout=self.timeout))\n",
      "  File \"C:\\Users\\Xiaowei\\Anaconda3\\envs\\tfspark\\lib\\site-packages\\joblib\\_parallel_backends.py\", line 540, in wrap_future_result\n",
      "    return future.result(timeout=timeout)\n",
      "  File \"C:\\Users\\Xiaowei\\Anaconda3\\envs\\tfspark\\lib\\concurrent\\futures\\_base.py\", line 435, in result\n",
      "    return self.__get_result()\n",
      "  File \"C:\\Users\\Xiaowei\\Anaconda3\\envs\\tfspark\\lib\\concurrent\\futures\\_base.py\", line 384, in __get_result\n",
      "    raise self._exception\n",
      "ValueError: Solver lbfgs supports only 'l2' or 'none' penalties, got l1 penalty.\n",
      "\n",
      "  FitFailedWarning)\n"
     ]
    },
    {
     "name": "stderr",
     "output_type": "stream",
     "text": [
      "C:\\Users\\Xiaowei\\Anaconda3\\envs\\tfspark\\lib\\site-packages\\sklearn\\model_selection\\_validation.py:552: FitFailedWarning: Estimator fit failed. The score on this train-test partition for these parameters will be set to nan. Details: \n",
      "joblib.externals.loky.process_executor._RemoteTraceback: \n",
      "\"\"\"\n",
      "Traceback (most recent call last):\n",
      "  File \"C:\\Users\\Xiaowei\\Anaconda3\\envs\\tfspark\\lib\\site-packages\\joblib\\externals\\loky\\process_executor.py\", line 431, in _process_worker\n",
      "    r = call_item()\n",
      "  File \"C:\\Users\\Xiaowei\\Anaconda3\\envs\\tfspark\\lib\\site-packages\\joblib\\externals\\loky\\process_executor.py\", line 285, in __call__\n",
      "    return self.fn(*self.args, **self.kwargs)\n",
      "  File \"C:\\Users\\Xiaowei\\Anaconda3\\envs\\tfspark\\lib\\site-packages\\joblib\\_parallel_backends.py\", line 593, in __call__\n",
      "    return self.func(*args, **kwargs)\n",
      "  File \"C:\\Users\\Xiaowei\\Anaconda3\\envs\\tfspark\\lib\\site-packages\\joblib\\parallel.py\", line 253, in __call__\n",
      "    for func, args, kwargs in self.items]\n",
      "  File \"C:\\Users\\Xiaowei\\Anaconda3\\envs\\tfspark\\lib\\site-packages\\joblib\\parallel.py\", line 253, in <listcomp>\n",
      "    for func, args, kwargs in self.items]\n",
      "  File \"C:\\Users\\Xiaowei\\Anaconda3\\envs\\tfspark\\lib\\site-packages\\sklearn\\multiclass.py\", line 81, in _fit_binary\n",
      "    estimator.fit(X, y)\n",
      "  File \"C:\\Users\\Xiaowei\\Anaconda3\\envs\\tfspark\\lib\\site-packages\\sklearn\\linear_model\\_logistic.py\", line 1304, in fit\n",
      "    solver = _check_solver(self.solver, self.penalty, self.dual)\n",
      "  File \"C:\\Users\\Xiaowei\\Anaconda3\\envs\\tfspark\\lib\\site-packages\\sklearn\\linear_model\\_logistic.py\", line 443, in _check_solver\n",
      "    \"got %s penalty.\" % (solver, penalty))\n",
      "ValueError: Solver lbfgs supports only 'l2' or 'none' penalties, got l1 penalty.\n",
      "\"\"\"\n",
      "\n",
      "The above exception was the direct cause of the following exception:\n",
      "\n",
      "Traceback (most recent call last):\n",
      "  File \"C:\\Users\\Xiaowei\\Anaconda3\\envs\\tfspark\\lib\\site-packages\\sklearn\\model_selection\\_validation.py\", line 531, in _fit_and_score\n",
      "    estimator.fit(X_train, y_train, **fit_params)\n",
      "  File \"C:\\Users\\Xiaowei\\Anaconda3\\envs\\tfspark\\lib\\site-packages\\sklearn\\multiclass.py\", line 245, in fit\n",
      "    for i, column in enumerate(columns))\n",
      "  File \"C:\\Users\\Xiaowei\\Anaconda3\\envs\\tfspark\\lib\\site-packages\\joblib\\parallel.py\", line 1042, in __call__\n",
      "    self.retrieve()\n",
      "  File \"C:\\Users\\Xiaowei\\Anaconda3\\envs\\tfspark\\lib\\site-packages\\joblib\\parallel.py\", line 921, in retrieve\n",
      "    self._output.extend(job.get(timeout=self.timeout))\n",
      "  File \"C:\\Users\\Xiaowei\\Anaconda3\\envs\\tfspark\\lib\\site-packages\\joblib\\_parallel_backends.py\", line 540, in wrap_future_result\n",
      "    return future.result(timeout=timeout)\n",
      "  File \"C:\\Users\\Xiaowei\\Anaconda3\\envs\\tfspark\\lib\\concurrent\\futures\\_base.py\", line 435, in result\n",
      "    return self.__get_result()\n",
      "  File \"C:\\Users\\Xiaowei\\Anaconda3\\envs\\tfspark\\lib\\concurrent\\futures\\_base.py\", line 384, in __get_result\n",
      "    raise self._exception\n",
      "ValueError: Solver lbfgs supports only 'l2' or 'none' penalties, got l1 penalty.\n",
      "\n",
      "  FitFailedWarning)\n",
      "C:\\Users\\Xiaowei\\Anaconda3\\envs\\tfspark\\lib\\site-packages\\sklearn\\model_selection\\_validation.py:552: FitFailedWarning: Estimator fit failed. The score on this train-test partition for these parameters will be set to nan. Details: \n",
      "joblib.externals.loky.process_executor._RemoteTraceback: \n",
      "\"\"\"\n",
      "Traceback (most recent call last):\n",
      "  File \"C:\\Users\\Xiaowei\\Anaconda3\\envs\\tfspark\\lib\\site-packages\\joblib\\externals\\loky\\process_executor.py\", line 431, in _process_worker\n",
      "    r = call_item()\n",
      "  File \"C:\\Users\\Xiaowei\\Anaconda3\\envs\\tfspark\\lib\\site-packages\\joblib\\externals\\loky\\process_executor.py\", line 285, in __call__\n",
      "    return self.fn(*self.args, **self.kwargs)\n",
      "  File \"C:\\Users\\Xiaowei\\Anaconda3\\envs\\tfspark\\lib\\site-packages\\joblib\\_parallel_backends.py\", line 593, in __call__\n",
      "    return self.func(*args, **kwargs)\n",
      "  File \"C:\\Users\\Xiaowei\\Anaconda3\\envs\\tfspark\\lib\\site-packages\\joblib\\parallel.py\", line 253, in __call__\n",
      "    for func, args, kwargs in self.items]\n",
      "  File \"C:\\Users\\Xiaowei\\Anaconda3\\envs\\tfspark\\lib\\site-packages\\joblib\\parallel.py\", line 253, in <listcomp>\n",
      "    for func, args, kwargs in self.items]\n",
      "  File \"C:\\Users\\Xiaowei\\Anaconda3\\envs\\tfspark\\lib\\site-packages\\sklearn\\multiclass.py\", line 81, in _fit_binary\n",
      "    estimator.fit(X, y)\n",
      "  File \"C:\\Users\\Xiaowei\\Anaconda3\\envs\\tfspark\\lib\\site-packages\\sklearn\\linear_model\\_logistic.py\", line 1304, in fit\n",
      "    solver = _check_solver(self.solver, self.penalty, self.dual)\n",
      "  File \"C:\\Users\\Xiaowei\\Anaconda3\\envs\\tfspark\\lib\\site-packages\\sklearn\\linear_model\\_logistic.py\", line 443, in _check_solver\n",
      "    \"got %s penalty.\" % (solver, penalty))\n",
      "ValueError: Solver lbfgs supports only 'l2' or 'none' penalties, got l1 penalty.\n",
      "\"\"\"\n",
      "\n",
      "The above exception was the direct cause of the following exception:\n",
      "\n",
      "Traceback (most recent call last):\n",
      "  File \"C:\\Users\\Xiaowei\\Anaconda3\\envs\\tfspark\\lib\\site-packages\\sklearn\\model_selection\\_validation.py\", line 531, in _fit_and_score\n",
      "    estimator.fit(X_train, y_train, **fit_params)\n",
      "  File \"C:\\Users\\Xiaowei\\Anaconda3\\envs\\tfspark\\lib\\site-packages\\sklearn\\multiclass.py\", line 245, in fit\n",
      "    for i, column in enumerate(columns))\n",
      "  File \"C:\\Users\\Xiaowei\\Anaconda3\\envs\\tfspark\\lib\\site-packages\\joblib\\parallel.py\", line 1042, in __call__\n",
      "    self.retrieve()\n",
      "  File \"C:\\Users\\Xiaowei\\Anaconda3\\envs\\tfspark\\lib\\site-packages\\joblib\\parallel.py\", line 921, in retrieve\n",
      "    self._output.extend(job.get(timeout=self.timeout))\n",
      "  File \"C:\\Users\\Xiaowei\\Anaconda3\\envs\\tfspark\\lib\\site-packages\\joblib\\_parallel_backends.py\", line 540, in wrap_future_result\n",
      "    return future.result(timeout=timeout)\n",
      "  File \"C:\\Users\\Xiaowei\\Anaconda3\\envs\\tfspark\\lib\\concurrent\\futures\\_base.py\", line 435, in result\n",
      "    return self.__get_result()\n",
      "  File \"C:\\Users\\Xiaowei\\Anaconda3\\envs\\tfspark\\lib\\concurrent\\futures\\_base.py\", line 384, in __get_result\n",
      "    raise self._exception\n",
      "ValueError: Solver lbfgs supports only 'l2' or 'none' penalties, got l1 penalty.\n",
      "\n",
      "  FitFailedWarning)\n",
      "C:\\Users\\Xiaowei\\Anaconda3\\envs\\tfspark\\lib\\site-packages\\sklearn\\model_selection\\_validation.py:552: FitFailedWarning: Estimator fit failed. The score on this train-test partition for these parameters will be set to nan. Details: \n",
      "joblib.externals.loky.process_executor._RemoteTraceback: \n",
      "\"\"\"\n",
      "Traceback (most recent call last):\n",
      "  File \"C:\\Users\\Xiaowei\\Anaconda3\\envs\\tfspark\\lib\\site-packages\\joblib\\externals\\loky\\process_executor.py\", line 431, in _process_worker\n",
      "    r = call_item()\n",
      "  File \"C:\\Users\\Xiaowei\\Anaconda3\\envs\\tfspark\\lib\\site-packages\\joblib\\externals\\loky\\process_executor.py\", line 285, in __call__\n",
      "    return self.fn(*self.args, **self.kwargs)\n",
      "  File \"C:\\Users\\Xiaowei\\Anaconda3\\envs\\tfspark\\lib\\site-packages\\joblib\\_parallel_backends.py\", line 593, in __call__\n",
      "    return self.func(*args, **kwargs)\n",
      "  File \"C:\\Users\\Xiaowei\\Anaconda3\\envs\\tfspark\\lib\\site-packages\\joblib\\parallel.py\", line 253, in __call__\n",
      "    for func, args, kwargs in self.items]\n",
      "  File \"C:\\Users\\Xiaowei\\Anaconda3\\envs\\tfspark\\lib\\site-packages\\joblib\\parallel.py\", line 253, in <listcomp>\n",
      "    for func, args, kwargs in self.items]\n",
      "  File \"C:\\Users\\Xiaowei\\Anaconda3\\envs\\tfspark\\lib\\site-packages\\sklearn\\multiclass.py\", line 81, in _fit_binary\n",
      "    estimator.fit(X, y)\n",
      "  File \"C:\\Users\\Xiaowei\\Anaconda3\\envs\\tfspark\\lib\\site-packages\\sklearn\\linear_model\\_logistic.py\", line 1304, in fit\n",
      "    solver = _check_solver(self.solver, self.penalty, self.dual)\n",
      "  File \"C:\\Users\\Xiaowei\\Anaconda3\\envs\\tfspark\\lib\\site-packages\\sklearn\\linear_model\\_logistic.py\", line 443, in _check_solver\n",
      "    \"got %s penalty.\" % (solver, penalty))\n",
      "ValueError: Solver lbfgs supports only 'l2' or 'none' penalties, got l1 penalty.\n",
      "\"\"\"\n",
      "\n",
      "The above exception was the direct cause of the following exception:\n",
      "\n",
      "Traceback (most recent call last):\n",
      "  File \"C:\\Users\\Xiaowei\\Anaconda3\\envs\\tfspark\\lib\\site-packages\\sklearn\\model_selection\\_validation.py\", line 531, in _fit_and_score\n",
      "    estimator.fit(X_train, y_train, **fit_params)\n",
      "  File \"C:\\Users\\Xiaowei\\Anaconda3\\envs\\tfspark\\lib\\site-packages\\sklearn\\multiclass.py\", line 245, in fit\n",
      "    for i, column in enumerate(columns))\n",
      "  File \"C:\\Users\\Xiaowei\\Anaconda3\\envs\\tfspark\\lib\\site-packages\\joblib\\parallel.py\", line 1042, in __call__\n",
      "    self.retrieve()\n",
      "  File \"C:\\Users\\Xiaowei\\Anaconda3\\envs\\tfspark\\lib\\site-packages\\joblib\\parallel.py\", line 921, in retrieve\n",
      "    self._output.extend(job.get(timeout=self.timeout))\n",
      "  File \"C:\\Users\\Xiaowei\\Anaconda3\\envs\\tfspark\\lib\\site-packages\\joblib\\_parallel_backends.py\", line 540, in wrap_future_result\n",
      "    return future.result(timeout=timeout)\n",
      "  File \"C:\\Users\\Xiaowei\\Anaconda3\\envs\\tfspark\\lib\\concurrent\\futures\\_base.py\", line 435, in result\n",
      "    return self.__get_result()\n",
      "  File \"C:\\Users\\Xiaowei\\Anaconda3\\envs\\tfspark\\lib\\concurrent\\futures\\_base.py\", line 384, in __get_result\n",
      "    raise self._exception\n",
      "ValueError: Solver lbfgs supports only 'l2' or 'none' penalties, got l1 penalty.\n",
      "\n",
      "  FitFailedWarning)\n"
     ]
    },
    {
     "name": "stdout",
     "output_type": "stream",
     "text": [
      "Wall time: 2min 35s\n"
     ]
    },
    {
     "data": {
      "text/plain": [
       "GridSearchCV(cv=3,\n",
       "             estimator=OneVsRestClassifier(estimator=LogisticRegression(random_state=0),\n",
       "                                           n_jobs=-1),\n",
       "             param_grid={'estimator__C': [0.1, 1, 10, 100],\n",
       "                         'estimator__penalty': ['l1', 'l2']},\n",
       "             scoring='f1_weighted')"
      ]
     },
     "execution_count": 58,
     "metadata": {},
     "output_type": "execute_result"
    }
   ],
   "source": [
    "%%time\n",
    "######################################\n",
    "######### YOUR CODE HERE #############\n",
    "######################################\n",
    "from sklearn.model_selection import GridSearchCV\n",
    "\n",
    "C_parameters = {'estimator__C': [0.1, 1, 10, 100], 'estimator__penalty':['l1', 'l2']}\n",
    "base_clf = OneVsRestClassifier(LogisticRegression(random_state=0), n_jobs=-1)\n",
    "grid_obj = GridSearchCV(base_clf, C_parameters, scoring='f1_weighted', cv=3)\n",
    "grid_obj.fit(X_train_mybag, y_train)"
   ]
  },
  {
   "cell_type": "code",
   "execution_count": 59,
   "metadata": {},
   "outputs": [
    {
     "name": "stdout",
     "output_type": "stream",
     "text": [
      "OneVsRestClassifier(estimator=LogisticRegression(C=10, random_state=0),\n",
      "                    n_jobs=-1)\n"
     ]
    }
   ],
   "source": [
    "model_best = grid_obj.best_estimator_\n",
    "print(model_best)"
   ]
  },
  {
   "cell_type": "markdown",
   "metadata": {},
   "source": [
    "When you are happy with the quality, create predictions for *test* set, which you will submit to Coursera."
   ]
  },
  {
   "cell_type": "code",
   "execution_count": 60,
   "metadata": {},
   "outputs": [
    {
     "name": "stdout",
     "output_type": "stream",
     "text": [
      "Current answer for task MultilabelClassification is:\n",
      " 0\tmysql,php\n",
      "1\tjavascript,jquery\n",
      "2\t\n",
      "3\tjavascript,jquery\n",
      "4\tandroid\n",
      "5\tphp,xml\n",
      "6\tajax,json,php,web-servi...\n"
     ]
    }
   ],
   "source": [
    "######### YOUR CODE HERE #############\n",
    "test_predictions = model_best.predict(X_test_mybag)\n",
    "test_pred_inversed = mlb.inverse_transform(test_predictions)\n",
    "\n",
    "test_predictions_for_submission = '\\n'.join('%i\\t%s' % (i, ','.join(row)) for i, row in enumerate(test_pred_inversed))\n",
    "grader.submit_tag('MultilabelClassification', test_predictions_for_submission)"
   ]
  },
  {
   "cell_type": "code",
   "execution_count": 61,
   "metadata": {},
   "outputs": [
    {
     "name": "stdout",
     "output_type": "stream",
     "text": [
      "Accuracy score: 0.354533\n",
      "F1-score macro/micro/weighted: 0.514385, 0.674361, 0.658011\n",
      "Precision score macro/micro/weighted: 0.335513, 0.473366, 0.507903\n"
     ]
    }
   ],
   "source": [
    "print_evaluation_scores(y_val, model_best.predict(X_val_mybag))"
   ]
  },
  {
   "cell_type": "markdown",
   "metadata": {},
   "source": [
    "### Analysis of the most important features"
   ]
  },
  {
   "cell_type": "markdown",
   "metadata": {},
   "source": [
    "Finally, it is usually a good idea to look at the features (words or n-grams) that are used with the largest weigths in your logistic regression model."
   ]
  },
  {
   "cell_type": "markdown",
   "metadata": {},
   "source": [
    "Implement the function *print_words_for_tag* to find them. Get back to sklearn documentation on [OneVsRestClassifier](http://scikit-learn.org/stable/modules/generated/sklearn.multiclass.OneVsRestClassifier.html) and [LogisticRegression](http://scikit-learn.org/stable/modules/generated/sklearn.linear_model.LogisticRegression.html) if needed."
   ]
  },
  {
   "cell_type": "code",
   "execution_count": 62,
   "metadata": {},
   "outputs": [],
   "source": [
    "def print_words_for_tag(classifier, tag, tags_classes, index_to_words, all_words):\n",
    "    \"\"\"\n",
    "        classifier: trained classifier\n",
    "        tag: particular tag\n",
    "        tags_classes: a list of classes names from MultiLabelBinarizer\n",
    "        index_to_words: index_to_words transformation\n",
    "        all_words: all words in the dictionary\n",
    "        \n",
    "        return nothing, just print top 5 positive and top 5 negative words for current tag\n",
    "    \"\"\"\n",
    "    print('Tag:\\t{}'.format(tag))\n",
    "    \n",
    "    # Extract an estimator from the classifier for the given tag.\n",
    "    # Extract feature coefficients from the estimator. \n",
    "    \n",
    "    ######################################\n",
    "    ######### YOUR CODE HERE #############\n",
    "    ######################################\n",
    "    \n",
    "    tag_index = tags_classes.index(tag)\n",
    "    tag_coef = classifier.coef_[tag_index]\n",
    "    \n",
    "    top_indices = np.argsort(tag_coef)[:-6:-1]\n",
    "    bottom_indices = np.argsort(tag_coef)[:5]\n",
    "    \n",
    "    top_positive_words = list(map(lambda x: index_to_words[x], top_indices)) # top-5 words sorted by the coefficiens.\n",
    "    top_negative_words = list(map(lambda x: index_to_words[x], bottom_indices)) # bottom-5 words  sorted by the coefficients.\n",
    "    print('Top positive words:\\t{}'.format(', '.join(top_positive_words)))\n",
    "    print('Top negative words:\\t{}\\n'.format(', '.join(top_negative_words)))"
   ]
  },
  {
   "cell_type": "code",
   "execution_count": 63,
   "metadata": {},
   "outputs": [
    {
     "name": "stdout",
     "output_type": "stream",
     "text": [
      "Tag:\tc\n",
      "Top positive words:\tc, malloc, scanf, printf, gcc\n",
      "Top negative words:\tjava, php, python, javascript, c#\n",
      "\n",
      "Tag:\tc++\n",
      "Top positive words:\tc++, qt, boost, mfc, opencv\n",
      "Top negative words:\tjava, php, python, javascript, c#\n",
      "\n",
      "Tag:\tlinux\n",
      "Top positive words:\tlinux, ubuntu, c, address, signal\n",
      "Top negative words:\tjavascript, c#, jquery, array, method\n",
      "\n"
     ]
    }
   ],
   "source": [
    "print_words_for_tag(classifier_tfidf, 'c', mlb.classes, tfidf_reversed_vocab, ALL_WORDS)\n",
    "print_words_for_tag(classifier_tfidf, 'c++', mlb.classes, tfidf_reversed_vocab, ALL_WORDS)\n",
    "print_words_for_tag(classifier_tfidf, 'linux', mlb.classes, tfidf_reversed_vocab, ALL_WORDS)"
   ]
  },
  {
   "cell_type": "markdown",
   "metadata": {},
   "source": [
    "### Authorization & Submission\n",
    "To submit assignment parts to Cousera platform, please, enter your e-mail and token into variables below. You can generate token on this programming assignment page. <b>Note:</b> Token expires 30 minutes after generation."
   ]
  },
  {
   "cell_type": "code",
   "execution_count": 56,
   "metadata": {},
   "outputs": [
    {
     "name": "stdout",
     "output_type": "stream",
     "text": [
      "You want to submit these parts:\n",
      "Task TextPrepare:\n",
      " sqlite php readonly\n",
      "creating multiple textboxes dynamically\n",
      "self one prefer javascript\n",
      "save php date...\n",
      "Task WordsTagsCount:\n",
      " javascript,c#,java\n",
      "using,php,java...\n",
      "Task BagOfWords:\n",
      " 7...\n",
      "Task MultilabelClassification:\n",
      " 0\tmysql,php\n",
      "1\tjavascript\n",
      "2\t\n",
      "3\tjavascript,jquery\n",
      "4\tandroid,java\n",
      "5\tphp,xml\n",
      "6\tjson,web-services\n",
      "7\tjava,...\n"
     ]
    }
   ],
   "source": [
    "grader.status()"
   ]
  },
  {
   "cell_type": "code",
   "execution_count": 57,
   "metadata": {},
   "outputs": [
    {
     "name": "stdout",
     "output_type": "stream",
     "text": [
      "You want to submit these parts:\n",
      "Task TextPrepare:\n",
      " sqlite php readonly\n",
      "creating multiple textboxes dynamically\n",
      "self one prefer javascript\n",
      "save php date...\n",
      "Task WordsTagsCount:\n",
      " javascript,c#,java\n",
      "using,php,java...\n",
      "Task BagOfWords:\n",
      " 7...\n",
      "Task MultilabelClassification:\n",
      " 0\tmysql,php\n",
      "1\tjavascript\n",
      "2\t\n",
      "3\tjavascript,jquery\n",
      "4\tandroid,java\n",
      "5\tphp,xml\n",
      "6\tjson,web-services\n",
      "7\tjava,...\n"
     ]
    }
   ],
   "source": [
    "STUDENT_EMAIL = 'lxwvictor@gmail.com'\n",
    "STUDENT_TOKEN = 'hafdw3llOOR4SYCQ'\n",
    "grader.status()"
   ]
  },
  {
   "cell_type": "markdown",
   "metadata": {},
   "source": [
    "If you want to submit these answers, run cell below"
   ]
  },
  {
   "cell_type": "code",
   "execution_count": 58,
   "metadata": {},
   "outputs": [
    {
     "name": "stdout",
     "output_type": "stream",
     "text": [
      "Submitted to Coursera platform. See results on assignment page!\n"
     ]
    }
   ],
   "source": [
    "grader.submit(STUDENT_EMAIL, STUDENT_TOKEN)"
   ]
  },
  {
   "cell_type": "code",
   "execution_count": null,
   "metadata": {},
   "outputs": [],
   "source": []
  }
 ],
 "metadata": {
  "kernelspec": {
   "display_name": "Python 3",
   "language": "python",
   "name": "python3"
  },
  "language_info": {
   "codemirror_mode": {
    "name": "ipython",
    "version": 3
   },
   "file_extension": ".py",
   "mimetype": "text/x-python",
   "name": "python",
   "nbconvert_exporter": "python",
   "pygments_lexer": "ipython3",
   "version": "3.7.7"
  }
 },
 "nbformat": 4,
 "nbformat_minor": 2
}
